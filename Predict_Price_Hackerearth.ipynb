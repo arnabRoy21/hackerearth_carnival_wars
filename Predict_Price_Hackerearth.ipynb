{
  "nbformat": 4,
  "nbformat_minor": 0,
  "metadata": {
    "colab": {
      "name": "Predict_Price_Hackerearth.ipynb",
      "provenance": [],
      "collapsed_sections": [
        "YjaLNHoi-S7-",
        "dsrgoLqZDtTQ",
        "l8b-PP5jEKvI"
      ]
    },
    "kernelspec": {
      "name": "python3",
      "display_name": "Python 3"
    },
    "language_info": {
      "name": "python"
    }
  },
  "cells": [
    {
      "cell_type": "markdown",
      "source": [
        "# Import Basic Libraries"
      ],
      "metadata": {
        "id": "YjaLNHoi-S7-"
      }
    },
    {
      "cell_type": "code",
      "execution_count": 49,
      "metadata": {
        "id": "nj6ZTy1VFi4h"
      },
      "outputs": [],
      "source": [
        "import pandas as pd\n",
        "import numpy as np"
      ]
    },
    {
      "cell_type": "markdown",
      "source": [
        "# Preprocess Train Data"
      ],
      "metadata": {
        "id": "dsrgoLqZDtTQ"
      }
    },
    {
      "cell_type": "markdown",
      "source": [
        "Get train and test data and save it as data frame"
      ],
      "metadata": {
        "id": "6QFcTsSI-Y5l"
      }
    },
    {
      "cell_type": "code",
      "source": [
        "train = pd.read_csv('https://raw.githubusercontent.com/pratzz/HackerEarthCarnivalWars/main/train.csv')"
      ],
      "metadata": {
        "id": "hDLy8rz3GLp4"
      },
      "execution_count": 3,
      "outputs": []
    },
    {
      "cell_type": "markdown",
      "source": [
        "Investigate train data"
      ],
      "metadata": {
        "id": "kIMDYcDT-lgV"
      }
    },
    {
      "cell_type": "code",
      "source": [
        "train.head(3)"
      ],
      "metadata": {
        "colab": {
          "base_uri": "https://localhost:8080/",
          "height": 0
        },
        "id": "KeARuHI1GZk-",
        "outputId": "662c94c9-1000-4d22-b66d-9232a8665121"
      },
      "execution_count": 4,
      "outputs": [
        {
          "output_type": "execute_result",
          "data": {
            "text/plain": [
              "         Product_id  Stall_no             instock_date  Market_Category  \\\n",
              "0  BRAE2NF6JA5GUEXG      37.0  2015-08-22 18:36:12.000                2   \n",
              "1  TUNE8SFB6RJN2HSD      38.0  2016-03-27 21:19:13.000               24   \n",
              "2  BRAEAR7WZPQGPBZU       9.0  2015-08-18 19:25:22.000              447   \n",
              "\n",
              "  Customer_name Loyalty_customer Product_Category  Grade  Demand  \\\n",
              "0      Lillyann              Yes          Fashion      1      68   \n",
              "1         Klynn              Yes          Fashion      0      51   \n",
              "2         Ridge              Yes       Child_care      0      10   \n",
              "\n",
              "   Discount_avail  charges_1  charges_2 (%)  Minimum_price  Maximum_price  \\\n",
              "0             0.0      376.0           11.0         2983.0         4713.0   \n",
              "1             0.0      397.0           12.0         7495.0        10352.0   \n",
              "2             0.0      250.0            9.0         5752.0         7309.0   \n",
              "\n",
              "   Selling_Price  \n",
              "0    4185.947700  \n",
              "1    9271.490256  \n",
              "2    6785.701362  "
            ],
            "text/html": [
              "\n",
              "  <div id=\"df-990ef723-cf05-4ba3-84e5-d5f39711bda3\">\n",
              "    <div class=\"colab-df-container\">\n",
              "      <div>\n",
              "<style scoped>\n",
              "    .dataframe tbody tr th:only-of-type {\n",
              "        vertical-align: middle;\n",
              "    }\n",
              "\n",
              "    .dataframe tbody tr th {\n",
              "        vertical-align: top;\n",
              "    }\n",
              "\n",
              "    .dataframe thead th {\n",
              "        text-align: right;\n",
              "    }\n",
              "</style>\n",
              "<table border=\"1\" class=\"dataframe\">\n",
              "  <thead>\n",
              "    <tr style=\"text-align: right;\">\n",
              "      <th></th>\n",
              "      <th>Product_id</th>\n",
              "      <th>Stall_no</th>\n",
              "      <th>instock_date</th>\n",
              "      <th>Market_Category</th>\n",
              "      <th>Customer_name</th>\n",
              "      <th>Loyalty_customer</th>\n",
              "      <th>Product_Category</th>\n",
              "      <th>Grade</th>\n",
              "      <th>Demand</th>\n",
              "      <th>Discount_avail</th>\n",
              "      <th>charges_1</th>\n",
              "      <th>charges_2 (%)</th>\n",
              "      <th>Minimum_price</th>\n",
              "      <th>Maximum_price</th>\n",
              "      <th>Selling_Price</th>\n",
              "    </tr>\n",
              "  </thead>\n",
              "  <tbody>\n",
              "    <tr>\n",
              "      <th>0</th>\n",
              "      <td>BRAE2NF6JA5GUEXG</td>\n",
              "      <td>37.0</td>\n",
              "      <td>2015-08-22 18:36:12.000</td>\n",
              "      <td>2</td>\n",
              "      <td>Lillyann</td>\n",
              "      <td>Yes</td>\n",
              "      <td>Fashion</td>\n",
              "      <td>1</td>\n",
              "      <td>68</td>\n",
              "      <td>0.0</td>\n",
              "      <td>376.0</td>\n",
              "      <td>11.0</td>\n",
              "      <td>2983.0</td>\n",
              "      <td>4713.0</td>\n",
              "      <td>4185.947700</td>\n",
              "    </tr>\n",
              "    <tr>\n",
              "      <th>1</th>\n",
              "      <td>TUNE8SFB6RJN2HSD</td>\n",
              "      <td>38.0</td>\n",
              "      <td>2016-03-27 21:19:13.000</td>\n",
              "      <td>24</td>\n",
              "      <td>Klynn</td>\n",
              "      <td>Yes</td>\n",
              "      <td>Fashion</td>\n",
              "      <td>0</td>\n",
              "      <td>51</td>\n",
              "      <td>0.0</td>\n",
              "      <td>397.0</td>\n",
              "      <td>12.0</td>\n",
              "      <td>7495.0</td>\n",
              "      <td>10352.0</td>\n",
              "      <td>9271.490256</td>\n",
              "    </tr>\n",
              "    <tr>\n",
              "      <th>2</th>\n",
              "      <td>BRAEAR7WZPQGPBZU</td>\n",
              "      <td>9.0</td>\n",
              "      <td>2015-08-18 19:25:22.000</td>\n",
              "      <td>447</td>\n",
              "      <td>Ridge</td>\n",
              "      <td>Yes</td>\n",
              "      <td>Child_care</td>\n",
              "      <td>0</td>\n",
              "      <td>10</td>\n",
              "      <td>0.0</td>\n",
              "      <td>250.0</td>\n",
              "      <td>9.0</td>\n",
              "      <td>5752.0</td>\n",
              "      <td>7309.0</td>\n",
              "      <td>6785.701362</td>\n",
              "    </tr>\n",
              "  </tbody>\n",
              "</table>\n",
              "</div>\n",
              "      <button class=\"colab-df-convert\" onclick=\"convertToInteractive('df-990ef723-cf05-4ba3-84e5-d5f39711bda3')\"\n",
              "              title=\"Convert this dataframe to an interactive table.\"\n",
              "              style=\"display:none;\">\n",
              "        \n",
              "  <svg xmlns=\"http://www.w3.org/2000/svg\" height=\"24px\"viewBox=\"0 0 24 24\"\n",
              "       width=\"24px\">\n",
              "    <path d=\"M0 0h24v24H0V0z\" fill=\"none\"/>\n",
              "    <path d=\"M18.56 5.44l.94 2.06.94-2.06 2.06-.94-2.06-.94-.94-2.06-.94 2.06-2.06.94zm-11 1L8.5 8.5l.94-2.06 2.06-.94-2.06-.94L8.5 2.5l-.94 2.06-2.06.94zm10 10l.94 2.06.94-2.06 2.06-.94-2.06-.94-.94-2.06-.94 2.06-2.06.94z\"/><path d=\"M17.41 7.96l-1.37-1.37c-.4-.4-.92-.59-1.43-.59-.52 0-1.04.2-1.43.59L10.3 9.45l-7.72 7.72c-.78.78-.78 2.05 0 2.83L4 21.41c.39.39.9.59 1.41.59.51 0 1.02-.2 1.41-.59l7.78-7.78 2.81-2.81c.8-.78.8-2.07 0-2.86zM5.41 20L4 18.59l7.72-7.72 1.47 1.35L5.41 20z\"/>\n",
              "  </svg>\n",
              "      </button>\n",
              "      \n",
              "  <style>\n",
              "    .colab-df-container {\n",
              "      display:flex;\n",
              "      flex-wrap:wrap;\n",
              "      gap: 12px;\n",
              "    }\n",
              "\n",
              "    .colab-df-convert {\n",
              "      background-color: #E8F0FE;\n",
              "      border: none;\n",
              "      border-radius: 50%;\n",
              "      cursor: pointer;\n",
              "      display: none;\n",
              "      fill: #1967D2;\n",
              "      height: 32px;\n",
              "      padding: 0 0 0 0;\n",
              "      width: 32px;\n",
              "    }\n",
              "\n",
              "    .colab-df-convert:hover {\n",
              "      background-color: #E2EBFA;\n",
              "      box-shadow: 0px 1px 2px rgba(60, 64, 67, 0.3), 0px 1px 3px 1px rgba(60, 64, 67, 0.15);\n",
              "      fill: #174EA6;\n",
              "    }\n",
              "\n",
              "    [theme=dark] .colab-df-convert {\n",
              "      background-color: #3B4455;\n",
              "      fill: #D2E3FC;\n",
              "    }\n",
              "\n",
              "    [theme=dark] .colab-df-convert:hover {\n",
              "      background-color: #434B5C;\n",
              "      box-shadow: 0px 1px 3px 1px rgba(0, 0, 0, 0.15);\n",
              "      filter: drop-shadow(0px 1px 2px rgba(0, 0, 0, 0.3));\n",
              "      fill: #FFFFFF;\n",
              "    }\n",
              "  </style>\n",
              "\n",
              "      <script>\n",
              "        const buttonEl =\n",
              "          document.querySelector('#df-990ef723-cf05-4ba3-84e5-d5f39711bda3 button.colab-df-convert');\n",
              "        buttonEl.style.display =\n",
              "          google.colab.kernel.accessAllowed ? 'block' : 'none';\n",
              "\n",
              "        async function convertToInteractive(key) {\n",
              "          const element = document.querySelector('#df-990ef723-cf05-4ba3-84e5-d5f39711bda3');\n",
              "          const dataTable =\n",
              "            await google.colab.kernel.invokeFunction('convertToInteractive',\n",
              "                                                     [key], {});\n",
              "          if (!dataTable) return;\n",
              "\n",
              "          const docLinkHtml = 'Like what you see? Visit the ' +\n",
              "            '<a target=\"_blank\" href=https://colab.research.google.com/notebooks/data_table.ipynb>data table notebook</a>'\n",
              "            + ' to learn more about interactive tables.';\n",
              "          element.innerHTML = '';\n",
              "          dataTable['output_type'] = 'display_data';\n",
              "          await google.colab.output.renderOutput(dataTable, element);\n",
              "          const docLink = document.createElement('div');\n",
              "          docLink.innerHTML = docLinkHtml;\n",
              "          element.appendChild(docLink);\n",
              "        }\n",
              "      </script>\n",
              "    </div>\n",
              "  </div>\n",
              "  "
            ]
          },
          "metadata": {},
          "execution_count": 4
        }
      ]
    },
    {
      "cell_type": "code",
      "source": [
        "train.info()"
      ],
      "metadata": {
        "colab": {
          "base_uri": "https://localhost:8080/"
        },
        "id": "fJnUlc8BICCk",
        "outputId": "3a38eb11-3522-4b28-edb6-dbfd2213e607"
      },
      "execution_count": 5,
      "outputs": [
        {
          "output_type": "stream",
          "name": "stdout",
          "text": [
            "<class 'pandas.core.frame.DataFrame'>\n",
            "RangeIndex: 6368 entries, 0 to 6367\n",
            "Data columns (total 15 columns):\n",
            " #   Column            Non-Null Count  Dtype  \n",
            "---  ------            --------------  -----  \n",
            " 0   Product_id        6368 non-null   object \n",
            " 1   Stall_no          6363 non-null   float64\n",
            " 2   instock_date      6368 non-null   object \n",
            " 3   Market_Category   6368 non-null   int64  \n",
            " 4   Customer_name     6157 non-null   object \n",
            " 5   Loyalty_customer  6368 non-null   object \n",
            " 6   Product_Category  6368 non-null   object \n",
            " 7   Grade             6368 non-null   int64  \n",
            " 8   Demand            6368 non-null   int64  \n",
            " 9   Discount_avail    6330 non-null   float64\n",
            " 10  charges_1         6170 non-null   float64\n",
            " 11  charges_2 (%)     6163 non-null   float64\n",
            " 12  Minimum_price     6330 non-null   float64\n",
            " 13  Maximum_price     6025 non-null   float64\n",
            " 14  Selling_Price     6327 non-null   float64\n",
            "dtypes: float64(7), int64(3), object(5)\n",
            "memory usage: 746.4+ KB\n"
          ]
        }
      ]
    },
    {
      "cell_type": "markdown",
      "source": [
        "Extract information from \"instock_date\" column"
      ],
      "metadata": {
        "id": "RYlgSVq5-uS8"
      }
    },
    {
      "cell_type": "code",
      "source": [
        "train['instock_date'] = pd.to_datetime(train['instock_date'])"
      ],
      "metadata": {
        "id": "TmarJljtITNm"
      },
      "execution_count": 6,
      "outputs": []
    },
    {
      "cell_type": "code",
      "source": [
        "train['year'] = train['instock_date'].dt.year\n",
        "train['month'] =  train['instock_date'].dt.month\n",
        "train['day'] =  train['instock_date'].dt.day\n",
        "train['hour'] =  train['instock_date'].dt.hour"
      ],
      "metadata": {
        "id": "2kxjJfO9TSJQ"
      },
      "execution_count": 7,
      "outputs": []
    },
    {
      "cell_type": "code",
      "source": [
        "train.head()"
      ],
      "metadata": {
        "colab": {
          "base_uri": "https://localhost:8080/",
          "height": 0
        },
        "id": "v_IZzgO-Tocl",
        "outputId": "6ea2e0e1-0dd7-45b5-91bc-b9fbcb1aaa6d"
      },
      "execution_count": 8,
      "outputs": [
        {
          "output_type": "execute_result",
          "data": {
            "text/plain": [
              "         Product_id  Stall_no        instock_date  Market_Category  \\\n",
              "0  BRAE2NF6JA5GUEXG      37.0 2015-08-22 18:36:12                2   \n",
              "1  TUNE8SFB6RJN2HSD      38.0 2016-03-27 21:19:13               24   \n",
              "2  BRAEAR7WZPQGPBZU       9.0 2015-08-18 19:25:22              447   \n",
              "3  WATDZ2ZQ8JPDHCTJ      50.0 2016-03-28 21:53:01               23   \n",
              "4  JWSEBUKYQPMBZ3RK       7.0 2016-03-29 22:58:53               63   \n",
              "\n",
              "  Customer_name Loyalty_customer Product_Category  Grade  Demand  \\\n",
              "0      Lillyann              Yes          Fashion      1      68   \n",
              "1         Klynn              Yes          Fashion      0      51   \n",
              "2         Ridge              Yes       Child_care      0      10   \n",
              "3         Abran              Yes      Educational      2      48   \n",
              "4        Dustyn              Yes           Repair      1      35   \n",
              "\n",
              "   Discount_avail  charges_1  charges_2 (%)  Minimum_price  Maximum_price  \\\n",
              "0             0.0      376.0           11.0         2983.0         4713.0   \n",
              "1             0.0      397.0           12.0         7495.0        10352.0   \n",
              "2             0.0      250.0            9.0         5752.0         7309.0   \n",
              "3             0.0      144.0           13.0         5090.0        20814.0   \n",
              "4             1.0      211.0            4.0         2430.0         9261.0   \n",
              "\n",
              "   Selling_Price  year  month  day  hour  \n",
              "0    4185.947700  2015      8   22    18  \n",
              "1    9271.490256  2016      3   27    21  \n",
              "2    6785.701362  2015      8   18    19  \n",
              "3   13028.917824  2016      3   28    21  \n",
              "4     906.553935  2016      3   29    22  "
            ],
            "text/html": [
              "\n",
              "  <div id=\"df-be21f356-1a6d-4cd9-8ef5-74172b9cc990\">\n",
              "    <div class=\"colab-df-container\">\n",
              "      <div>\n",
              "<style scoped>\n",
              "    .dataframe tbody tr th:only-of-type {\n",
              "        vertical-align: middle;\n",
              "    }\n",
              "\n",
              "    .dataframe tbody tr th {\n",
              "        vertical-align: top;\n",
              "    }\n",
              "\n",
              "    .dataframe thead th {\n",
              "        text-align: right;\n",
              "    }\n",
              "</style>\n",
              "<table border=\"1\" class=\"dataframe\">\n",
              "  <thead>\n",
              "    <tr style=\"text-align: right;\">\n",
              "      <th></th>\n",
              "      <th>Product_id</th>\n",
              "      <th>Stall_no</th>\n",
              "      <th>instock_date</th>\n",
              "      <th>Market_Category</th>\n",
              "      <th>Customer_name</th>\n",
              "      <th>Loyalty_customer</th>\n",
              "      <th>Product_Category</th>\n",
              "      <th>Grade</th>\n",
              "      <th>Demand</th>\n",
              "      <th>Discount_avail</th>\n",
              "      <th>charges_1</th>\n",
              "      <th>charges_2 (%)</th>\n",
              "      <th>Minimum_price</th>\n",
              "      <th>Maximum_price</th>\n",
              "      <th>Selling_Price</th>\n",
              "      <th>year</th>\n",
              "      <th>month</th>\n",
              "      <th>day</th>\n",
              "      <th>hour</th>\n",
              "    </tr>\n",
              "  </thead>\n",
              "  <tbody>\n",
              "    <tr>\n",
              "      <th>0</th>\n",
              "      <td>BRAE2NF6JA5GUEXG</td>\n",
              "      <td>37.0</td>\n",
              "      <td>2015-08-22 18:36:12</td>\n",
              "      <td>2</td>\n",
              "      <td>Lillyann</td>\n",
              "      <td>Yes</td>\n",
              "      <td>Fashion</td>\n",
              "      <td>1</td>\n",
              "      <td>68</td>\n",
              "      <td>0.0</td>\n",
              "      <td>376.0</td>\n",
              "      <td>11.0</td>\n",
              "      <td>2983.0</td>\n",
              "      <td>4713.0</td>\n",
              "      <td>4185.947700</td>\n",
              "      <td>2015</td>\n",
              "      <td>8</td>\n",
              "      <td>22</td>\n",
              "      <td>18</td>\n",
              "    </tr>\n",
              "    <tr>\n",
              "      <th>1</th>\n",
              "      <td>TUNE8SFB6RJN2HSD</td>\n",
              "      <td>38.0</td>\n",
              "      <td>2016-03-27 21:19:13</td>\n",
              "      <td>24</td>\n",
              "      <td>Klynn</td>\n",
              "      <td>Yes</td>\n",
              "      <td>Fashion</td>\n",
              "      <td>0</td>\n",
              "      <td>51</td>\n",
              "      <td>0.0</td>\n",
              "      <td>397.0</td>\n",
              "      <td>12.0</td>\n",
              "      <td>7495.0</td>\n",
              "      <td>10352.0</td>\n",
              "      <td>9271.490256</td>\n",
              "      <td>2016</td>\n",
              "      <td>3</td>\n",
              "      <td>27</td>\n",
              "      <td>21</td>\n",
              "    </tr>\n",
              "    <tr>\n",
              "      <th>2</th>\n",
              "      <td>BRAEAR7WZPQGPBZU</td>\n",
              "      <td>9.0</td>\n",
              "      <td>2015-08-18 19:25:22</td>\n",
              "      <td>447</td>\n",
              "      <td>Ridge</td>\n",
              "      <td>Yes</td>\n",
              "      <td>Child_care</td>\n",
              "      <td>0</td>\n",
              "      <td>10</td>\n",
              "      <td>0.0</td>\n",
              "      <td>250.0</td>\n",
              "      <td>9.0</td>\n",
              "      <td>5752.0</td>\n",
              "      <td>7309.0</td>\n",
              "      <td>6785.701362</td>\n",
              "      <td>2015</td>\n",
              "      <td>8</td>\n",
              "      <td>18</td>\n",
              "      <td>19</td>\n",
              "    </tr>\n",
              "    <tr>\n",
              "      <th>3</th>\n",
              "      <td>WATDZ2ZQ8JPDHCTJ</td>\n",
              "      <td>50.0</td>\n",
              "      <td>2016-03-28 21:53:01</td>\n",
              "      <td>23</td>\n",
              "      <td>Abran</td>\n",
              "      <td>Yes</td>\n",
              "      <td>Educational</td>\n",
              "      <td>2</td>\n",
              "      <td>48</td>\n",
              "      <td>0.0</td>\n",
              "      <td>144.0</td>\n",
              "      <td>13.0</td>\n",
              "      <td>5090.0</td>\n",
              "      <td>20814.0</td>\n",
              "      <td>13028.917824</td>\n",
              "      <td>2016</td>\n",
              "      <td>3</td>\n",
              "      <td>28</td>\n",
              "      <td>21</td>\n",
              "    </tr>\n",
              "    <tr>\n",
              "      <th>4</th>\n",
              "      <td>JWSEBUKYQPMBZ3RK</td>\n",
              "      <td>7.0</td>\n",
              "      <td>2016-03-29 22:58:53</td>\n",
              "      <td>63</td>\n",
              "      <td>Dustyn</td>\n",
              "      <td>Yes</td>\n",
              "      <td>Repair</td>\n",
              "      <td>1</td>\n",
              "      <td>35</td>\n",
              "      <td>1.0</td>\n",
              "      <td>211.0</td>\n",
              "      <td>4.0</td>\n",
              "      <td>2430.0</td>\n",
              "      <td>9261.0</td>\n",
              "      <td>906.553935</td>\n",
              "      <td>2016</td>\n",
              "      <td>3</td>\n",
              "      <td>29</td>\n",
              "      <td>22</td>\n",
              "    </tr>\n",
              "  </tbody>\n",
              "</table>\n",
              "</div>\n",
              "      <button class=\"colab-df-convert\" onclick=\"convertToInteractive('df-be21f356-1a6d-4cd9-8ef5-74172b9cc990')\"\n",
              "              title=\"Convert this dataframe to an interactive table.\"\n",
              "              style=\"display:none;\">\n",
              "        \n",
              "  <svg xmlns=\"http://www.w3.org/2000/svg\" height=\"24px\"viewBox=\"0 0 24 24\"\n",
              "       width=\"24px\">\n",
              "    <path d=\"M0 0h24v24H0V0z\" fill=\"none\"/>\n",
              "    <path d=\"M18.56 5.44l.94 2.06.94-2.06 2.06-.94-2.06-.94-.94-2.06-.94 2.06-2.06.94zm-11 1L8.5 8.5l.94-2.06 2.06-.94-2.06-.94L8.5 2.5l-.94 2.06-2.06.94zm10 10l.94 2.06.94-2.06 2.06-.94-2.06-.94-.94-2.06-.94 2.06-2.06.94z\"/><path d=\"M17.41 7.96l-1.37-1.37c-.4-.4-.92-.59-1.43-.59-.52 0-1.04.2-1.43.59L10.3 9.45l-7.72 7.72c-.78.78-.78 2.05 0 2.83L4 21.41c.39.39.9.59 1.41.59.51 0 1.02-.2 1.41-.59l7.78-7.78 2.81-2.81c.8-.78.8-2.07 0-2.86zM5.41 20L4 18.59l7.72-7.72 1.47 1.35L5.41 20z\"/>\n",
              "  </svg>\n",
              "      </button>\n",
              "      \n",
              "  <style>\n",
              "    .colab-df-container {\n",
              "      display:flex;\n",
              "      flex-wrap:wrap;\n",
              "      gap: 12px;\n",
              "    }\n",
              "\n",
              "    .colab-df-convert {\n",
              "      background-color: #E8F0FE;\n",
              "      border: none;\n",
              "      border-radius: 50%;\n",
              "      cursor: pointer;\n",
              "      display: none;\n",
              "      fill: #1967D2;\n",
              "      height: 32px;\n",
              "      padding: 0 0 0 0;\n",
              "      width: 32px;\n",
              "    }\n",
              "\n",
              "    .colab-df-convert:hover {\n",
              "      background-color: #E2EBFA;\n",
              "      box-shadow: 0px 1px 2px rgba(60, 64, 67, 0.3), 0px 1px 3px 1px rgba(60, 64, 67, 0.15);\n",
              "      fill: #174EA6;\n",
              "    }\n",
              "\n",
              "    [theme=dark] .colab-df-convert {\n",
              "      background-color: #3B4455;\n",
              "      fill: #D2E3FC;\n",
              "    }\n",
              "\n",
              "    [theme=dark] .colab-df-convert:hover {\n",
              "      background-color: #434B5C;\n",
              "      box-shadow: 0px 1px 3px 1px rgba(0, 0, 0, 0.15);\n",
              "      filter: drop-shadow(0px 1px 2px rgba(0, 0, 0, 0.3));\n",
              "      fill: #FFFFFF;\n",
              "    }\n",
              "  </style>\n",
              "\n",
              "      <script>\n",
              "        const buttonEl =\n",
              "          document.querySelector('#df-be21f356-1a6d-4cd9-8ef5-74172b9cc990 button.colab-df-convert');\n",
              "        buttonEl.style.display =\n",
              "          google.colab.kernel.accessAllowed ? 'block' : 'none';\n",
              "\n",
              "        async function convertToInteractive(key) {\n",
              "          const element = document.querySelector('#df-be21f356-1a6d-4cd9-8ef5-74172b9cc990');\n",
              "          const dataTable =\n",
              "            await google.colab.kernel.invokeFunction('convertToInteractive',\n",
              "                                                     [key], {});\n",
              "          if (!dataTable) return;\n",
              "\n",
              "          const docLinkHtml = 'Like what you see? Visit the ' +\n",
              "            '<a target=\"_blank\" href=https://colab.research.google.com/notebooks/data_table.ipynb>data table notebook</a>'\n",
              "            + ' to learn more about interactive tables.';\n",
              "          element.innerHTML = '';\n",
              "          dataTable['output_type'] = 'display_data';\n",
              "          await google.colab.output.renderOutput(dataTable, element);\n",
              "          const docLink = document.createElement('div');\n",
              "          docLink.innerHTML = docLinkHtml;\n",
              "          element.appendChild(docLink);\n",
              "        }\n",
              "      </script>\n",
              "    </div>\n",
              "  </div>\n",
              "  "
            ]
          },
          "metadata": {},
          "execution_count": 8
        }
      ]
    },
    {
      "cell_type": "markdown",
      "source": [
        "Check for unique data against each column"
      ],
      "metadata": {
        "id": "fTSiJCck_Hd6"
      }
    },
    {
      "cell_type": "code",
      "source": [
        "train.nunique()"
      ],
      "metadata": {
        "colab": {
          "base_uri": "https://localhost:8080/"
        },
        "id": "E9UKx-qDgf9t",
        "outputId": "c8abeedd-30e4-4a62-b73c-532c00616475"
      },
      "execution_count": 9,
      "outputs": [
        {
          "output_type": "execute_result",
          "data": {
            "text/plain": [
              "Product_id          6368\n",
              "Stall_no              50\n",
              "instock_date        5350\n",
              "Market_Category      248\n",
              "Customer_name       5900\n",
              "Loyalty_customer       2\n",
              "Product_Category      10\n",
              "Grade                  4\n",
              "Demand               100\n",
              "Discount_avail         2\n",
              "charges_1            487\n",
              "charges_2 (%)         17\n",
              "Minimum_price       4236\n",
              "Maximum_price       4618\n",
              "Selling_Price       6321\n",
              "year                   3\n",
              "month                 11\n",
              "day                   31\n",
              "hour                  24\n",
              "dtype: int64"
            ]
          },
          "metadata": {},
          "execution_count": 9
        }
      ]
    },
    {
      "cell_type": "markdown",
      "source": [
        "Check for null values against each column"
      ],
      "metadata": {
        "id": "xMfhQaOA_Oya"
      }
    },
    {
      "cell_type": "code",
      "source": [
        "train.isnull().sum()"
      ],
      "metadata": {
        "colab": {
          "base_uri": "https://localhost:8080/"
        },
        "id": "beu_1dYygto9",
        "outputId": "7c3f2ce3-ca14-4b5b-d409-d9b234c40dd3"
      },
      "execution_count": 10,
      "outputs": [
        {
          "output_type": "execute_result",
          "data": {
            "text/plain": [
              "Product_id            0\n",
              "Stall_no              5\n",
              "instock_date          0\n",
              "Market_Category       0\n",
              "Customer_name       211\n",
              "Loyalty_customer      0\n",
              "Product_Category      0\n",
              "Grade                 0\n",
              "Demand                0\n",
              "Discount_avail       38\n",
              "charges_1           198\n",
              "charges_2 (%)       205\n",
              "Minimum_price        38\n",
              "Maximum_price       343\n",
              "Selling_Price        41\n",
              "year                  0\n",
              "month                 0\n",
              "day                   0\n",
              "hour                  0\n",
              "dtype: int64"
            ]
          },
          "metadata": {},
          "execution_count": 10
        }
      ]
    },
    {
      "cell_type": "markdown",
      "source": [
        "Remove records having no data for target variable - \"Selling_Price\""
      ],
      "metadata": {
        "id": "68MiESBH_WPJ"
      }
    },
    {
      "cell_type": "code",
      "source": [
        "train = train[train['Selling_Price'].notna()]"
      ],
      "metadata": {
        "id": "Pm-McRj0gz77"
      },
      "execution_count": 11,
      "outputs": []
    },
    {
      "cell_type": "code",
      "source": [
        "train.isnull().sum()"
      ],
      "metadata": {
        "colab": {
          "base_uri": "https://localhost:8080/"
        },
        "id": "5H-8Jk0ohe7_",
        "outputId": "7cc70446-bb83-4ad3-f891-8f2a3d660442"
      },
      "execution_count": 12,
      "outputs": [
        {
          "output_type": "execute_result",
          "data": {
            "text/plain": [
              "Product_id            0\n",
              "Stall_no              5\n",
              "instock_date          0\n",
              "Market_Category       0\n",
              "Customer_name       207\n",
              "Loyalty_customer      0\n",
              "Product_Category      0\n",
              "Grade                 0\n",
              "Demand                0\n",
              "Discount_avail       37\n",
              "charges_1           198\n",
              "charges_2 (%)       204\n",
              "Minimum_price        38\n",
              "Maximum_price       341\n",
              "Selling_Price         0\n",
              "year                  0\n",
              "month                 0\n",
              "day                   0\n",
              "hour                  0\n",
              "dtype: int64"
            ]
          },
          "metadata": {},
          "execution_count": 12
        }
      ]
    },
    {
      "cell_type": "markdown",
      "source": [
        "Delete columns not necessary in making prediction"
      ],
      "metadata": {
        "id": "5iqjmE6j_xwQ"
      }
    },
    {
      "cell_type": "code",
      "source": [
        "columns = ['Product_id', 'instock_date', 'Customer_name']\n",
        "train = train.drop(columns = columns)"
      ],
      "metadata": {
        "id": "GenqKdavkCei"
      },
      "execution_count": 13,
      "outputs": []
    },
    {
      "cell_type": "code",
      "source": [
        "train.head(2)"
      ],
      "metadata": {
        "colab": {
          "base_uri": "https://localhost:8080/",
          "height": 0
        },
        "id": "peug0dZ1BiGc",
        "outputId": "5b7a0ed2-20f4-40f2-abaa-9965a2e7dcd7"
      },
      "execution_count": 14,
      "outputs": [
        {
          "output_type": "execute_result",
          "data": {
            "text/plain": [
              "   Stall_no  Market_Category Loyalty_customer Product_Category  Grade  Demand  \\\n",
              "0      37.0                2              Yes          Fashion      1      68   \n",
              "1      38.0               24              Yes          Fashion      0      51   \n",
              "\n",
              "   Discount_avail  charges_1  charges_2 (%)  Minimum_price  Maximum_price  \\\n",
              "0             0.0      376.0           11.0         2983.0         4713.0   \n",
              "1             0.0      397.0           12.0         7495.0        10352.0   \n",
              "\n",
              "   Selling_Price  year  month  day  hour  \n",
              "0    4185.947700  2015      8   22    18  \n",
              "1    9271.490256  2016      3   27    21  "
            ],
            "text/html": [
              "\n",
              "  <div id=\"df-734adbe6-8d74-44b7-8d12-8178ed3f8d74\">\n",
              "    <div class=\"colab-df-container\">\n",
              "      <div>\n",
              "<style scoped>\n",
              "    .dataframe tbody tr th:only-of-type {\n",
              "        vertical-align: middle;\n",
              "    }\n",
              "\n",
              "    .dataframe tbody tr th {\n",
              "        vertical-align: top;\n",
              "    }\n",
              "\n",
              "    .dataframe thead th {\n",
              "        text-align: right;\n",
              "    }\n",
              "</style>\n",
              "<table border=\"1\" class=\"dataframe\">\n",
              "  <thead>\n",
              "    <tr style=\"text-align: right;\">\n",
              "      <th></th>\n",
              "      <th>Stall_no</th>\n",
              "      <th>Market_Category</th>\n",
              "      <th>Loyalty_customer</th>\n",
              "      <th>Product_Category</th>\n",
              "      <th>Grade</th>\n",
              "      <th>Demand</th>\n",
              "      <th>Discount_avail</th>\n",
              "      <th>charges_1</th>\n",
              "      <th>charges_2 (%)</th>\n",
              "      <th>Minimum_price</th>\n",
              "      <th>Maximum_price</th>\n",
              "      <th>Selling_Price</th>\n",
              "      <th>year</th>\n",
              "      <th>month</th>\n",
              "      <th>day</th>\n",
              "      <th>hour</th>\n",
              "    </tr>\n",
              "  </thead>\n",
              "  <tbody>\n",
              "    <tr>\n",
              "      <th>0</th>\n",
              "      <td>37.0</td>\n",
              "      <td>2</td>\n",
              "      <td>Yes</td>\n",
              "      <td>Fashion</td>\n",
              "      <td>1</td>\n",
              "      <td>68</td>\n",
              "      <td>0.0</td>\n",
              "      <td>376.0</td>\n",
              "      <td>11.0</td>\n",
              "      <td>2983.0</td>\n",
              "      <td>4713.0</td>\n",
              "      <td>4185.947700</td>\n",
              "      <td>2015</td>\n",
              "      <td>8</td>\n",
              "      <td>22</td>\n",
              "      <td>18</td>\n",
              "    </tr>\n",
              "    <tr>\n",
              "      <th>1</th>\n",
              "      <td>38.0</td>\n",
              "      <td>24</td>\n",
              "      <td>Yes</td>\n",
              "      <td>Fashion</td>\n",
              "      <td>0</td>\n",
              "      <td>51</td>\n",
              "      <td>0.0</td>\n",
              "      <td>397.0</td>\n",
              "      <td>12.0</td>\n",
              "      <td>7495.0</td>\n",
              "      <td>10352.0</td>\n",
              "      <td>9271.490256</td>\n",
              "      <td>2016</td>\n",
              "      <td>3</td>\n",
              "      <td>27</td>\n",
              "      <td>21</td>\n",
              "    </tr>\n",
              "  </tbody>\n",
              "</table>\n",
              "</div>\n",
              "      <button class=\"colab-df-convert\" onclick=\"convertToInteractive('df-734adbe6-8d74-44b7-8d12-8178ed3f8d74')\"\n",
              "              title=\"Convert this dataframe to an interactive table.\"\n",
              "              style=\"display:none;\">\n",
              "        \n",
              "  <svg xmlns=\"http://www.w3.org/2000/svg\" height=\"24px\"viewBox=\"0 0 24 24\"\n",
              "       width=\"24px\">\n",
              "    <path d=\"M0 0h24v24H0V0z\" fill=\"none\"/>\n",
              "    <path d=\"M18.56 5.44l.94 2.06.94-2.06 2.06-.94-2.06-.94-.94-2.06-.94 2.06-2.06.94zm-11 1L8.5 8.5l.94-2.06 2.06-.94-2.06-.94L8.5 2.5l-.94 2.06-2.06.94zm10 10l.94 2.06.94-2.06 2.06-.94-2.06-.94-.94-2.06-.94 2.06-2.06.94z\"/><path d=\"M17.41 7.96l-1.37-1.37c-.4-.4-.92-.59-1.43-.59-.52 0-1.04.2-1.43.59L10.3 9.45l-7.72 7.72c-.78.78-.78 2.05 0 2.83L4 21.41c.39.39.9.59 1.41.59.51 0 1.02-.2 1.41-.59l7.78-7.78 2.81-2.81c.8-.78.8-2.07 0-2.86zM5.41 20L4 18.59l7.72-7.72 1.47 1.35L5.41 20z\"/>\n",
              "  </svg>\n",
              "      </button>\n",
              "      \n",
              "  <style>\n",
              "    .colab-df-container {\n",
              "      display:flex;\n",
              "      flex-wrap:wrap;\n",
              "      gap: 12px;\n",
              "    }\n",
              "\n",
              "    .colab-df-convert {\n",
              "      background-color: #E8F0FE;\n",
              "      border: none;\n",
              "      border-radius: 50%;\n",
              "      cursor: pointer;\n",
              "      display: none;\n",
              "      fill: #1967D2;\n",
              "      height: 32px;\n",
              "      padding: 0 0 0 0;\n",
              "      width: 32px;\n",
              "    }\n",
              "\n",
              "    .colab-df-convert:hover {\n",
              "      background-color: #E2EBFA;\n",
              "      box-shadow: 0px 1px 2px rgba(60, 64, 67, 0.3), 0px 1px 3px 1px rgba(60, 64, 67, 0.15);\n",
              "      fill: #174EA6;\n",
              "    }\n",
              "\n",
              "    [theme=dark] .colab-df-convert {\n",
              "      background-color: #3B4455;\n",
              "      fill: #D2E3FC;\n",
              "    }\n",
              "\n",
              "    [theme=dark] .colab-df-convert:hover {\n",
              "      background-color: #434B5C;\n",
              "      box-shadow: 0px 1px 3px 1px rgba(0, 0, 0, 0.15);\n",
              "      filter: drop-shadow(0px 1px 2px rgba(0, 0, 0, 0.3));\n",
              "      fill: #FFFFFF;\n",
              "    }\n",
              "  </style>\n",
              "\n",
              "      <script>\n",
              "        const buttonEl =\n",
              "          document.querySelector('#df-734adbe6-8d74-44b7-8d12-8178ed3f8d74 button.colab-df-convert');\n",
              "        buttonEl.style.display =\n",
              "          google.colab.kernel.accessAllowed ? 'block' : 'none';\n",
              "\n",
              "        async function convertToInteractive(key) {\n",
              "          const element = document.querySelector('#df-734adbe6-8d74-44b7-8d12-8178ed3f8d74');\n",
              "          const dataTable =\n",
              "            await google.colab.kernel.invokeFunction('convertToInteractive',\n",
              "                                                     [key], {});\n",
              "          if (!dataTable) return;\n",
              "\n",
              "          const docLinkHtml = 'Like what you see? Visit the ' +\n",
              "            '<a target=\"_blank\" href=https://colab.research.google.com/notebooks/data_table.ipynb>data table notebook</a>'\n",
              "            + ' to learn more about interactive tables.';\n",
              "          element.innerHTML = '';\n",
              "          dataTable['output_type'] = 'display_data';\n",
              "          await google.colab.output.renderOutput(dataTable, element);\n",
              "          const docLink = document.createElement('div');\n",
              "          docLink.innerHTML = docLinkHtml;\n",
              "          element.appendChild(docLink);\n",
              "        }\n",
              "      </script>\n",
              "    </div>\n",
              "  </div>\n",
              "  "
            ]
          },
          "metadata": {},
          "execution_count": 14
        }
      ]
    },
    {
      "cell_type": "markdown",
      "source": [
        "Convert categorical columns - 'Loyalty_customer' and 'Product_Category' into one hot vector columns and add it to train data"
      ],
      "metadata": {
        "id": "sPzn5ym4AApR"
      }
    },
    {
      "cell_type": "code",
      "source": [
        "\n",
        "train = pd.get_dummies(train, columns=['Loyalty_customer', 'Product_Category'])"
      ],
      "metadata": {
        "id": "m76D805y-z5y"
      },
      "execution_count": 15,
      "outputs": []
    },
    {
      "cell_type": "markdown",
      "source": [
        "Impute columns having missing values with mean of their sample distribution"
      ],
      "metadata": {
        "id": "1u9G2dhcArv3"
      }
    },
    {
      "cell_type": "code",
      "source": [
        "cols = ['Discount_avail', 'charges_1', 'charges_2 (%)', 'Minimum_price', 'Maximum_price' ]\n",
        "for col in cols:\n",
        "  train[col] = train[col].fillna(int(train[col].mean()))"
      ],
      "metadata": {
        "id": "drZ5_MdkEg9F"
      },
      "execution_count": 16,
      "outputs": []
    },
    {
      "cell_type": "markdown",
      "source": [
        "Remove records having no data for target variable - \"Stall_no\""
      ],
      "metadata": {
        "id": "qnnKqou0A8JG"
      }
    },
    {
      "cell_type": "code",
      "source": [
        "train = train[train['Stall_no'].notna()]"
      ],
      "metadata": {
        "id": "mgY-5n09Dh2F"
      },
      "execution_count": 17,
      "outputs": []
    },
    {
      "cell_type": "code",
      "source": [
        "train.info()"
      ],
      "metadata": {
        "colab": {
          "base_uri": "https://localhost:8080/"
        },
        "id": "iMRWUpEhG-lD",
        "outputId": "781453af-bc58-48d8-a0f1-363f9b897331"
      },
      "execution_count": 18,
      "outputs": [
        {
          "output_type": "stream",
          "name": "stdout",
          "text": [
            "<class 'pandas.core.frame.DataFrame'>\n",
            "Int64Index: 6322 entries, 0 to 6367\n",
            "Data columns (total 26 columns):\n",
            " #   Column                        Non-Null Count  Dtype  \n",
            "---  ------                        --------------  -----  \n",
            " 0   Stall_no                      6322 non-null   float64\n",
            " 1   Market_Category               6322 non-null   int64  \n",
            " 2   Grade                         6322 non-null   int64  \n",
            " 3   Demand                        6322 non-null   int64  \n",
            " 4   Discount_avail                6322 non-null   float64\n",
            " 5   charges_1                     6322 non-null   float64\n",
            " 6   charges_2 (%)                 6322 non-null   float64\n",
            " 7   Minimum_price                 6322 non-null   float64\n",
            " 8   Maximum_price                 6322 non-null   float64\n",
            " 9   Selling_Price                 6322 non-null   float64\n",
            " 10  year                          6322 non-null   int64  \n",
            " 11  month                         6322 non-null   int64  \n",
            " 12  day                           6322 non-null   int64  \n",
            " 13  hour                          6322 non-null   int64  \n",
            " 14  Loyalty_customer_No           6322 non-null   uint8  \n",
            " 15  Loyalty_customer_Yes          6322 non-null   uint8  \n",
            " 16  Product_Category_Child_care   6322 non-null   uint8  \n",
            " 17  Product_Category_Cosmetics    6322 non-null   uint8  \n",
            " 18  Product_Category_Educational  6322 non-null   uint8  \n",
            " 19  Product_Category_Fashion      6322 non-null   uint8  \n",
            " 20  Product_Category_Home_decor   6322 non-null   uint8  \n",
            " 21  Product_Category_Hospitality  6322 non-null   uint8  \n",
            " 22  Product_Category_Organic      6322 non-null   uint8  \n",
            " 23  Product_Category_Pet_care     6322 non-null   uint8  \n",
            " 24  Product_Category_Repair       6322 non-null   uint8  \n",
            " 25  Product_Category_Technology   6322 non-null   uint8  \n",
            "dtypes: float64(7), int64(7), uint8(12)\n",
            "memory usage: 814.9 KB\n"
          ]
        }
      ]
    },
    {
      "cell_type": "markdown",
      "source": [
        "Keep records for only \"Selling_Price\" greater than 0"
      ],
      "metadata": {
        "id": "CPFESjCqBD7_"
      }
    },
    {
      "cell_type": "code",
      "source": [
        "train = train[train[\"Selling_Price\"] > 0]"
      ],
      "metadata": {
        "id": "kHii43FjH7sb"
      },
      "execution_count": 19,
      "outputs": []
    },
    {
      "cell_type": "markdown",
      "source": [
        "# Split data to train and validation data"
      ],
      "metadata": {
        "id": "K09SvaR3D24h"
      }
    },
    {
      "cell_type": "markdown",
      "source": [
        "Create x, y data from train data"
      ],
      "metadata": {
        "id": "NrLEL5AnB8kG"
      }
    },
    {
      "cell_type": "code",
      "source": [
        "x_train = train\n",
        "x_train = x_train.drop([\"Selling_Price\"],axis =1)\n",
        "y_train = train['Selling_Price']"
      ],
      "metadata": {
        "id": "DdQNGisUJG1i"
      },
      "execution_count": 20,
      "outputs": []
    },
    {
      "cell_type": "markdown",
      "source": [
        "Split x, y into train and validation set"
      ],
      "metadata": {
        "id": "7Ncw1m4SCKtM"
      }
    },
    {
      "cell_type": "code",
      "source": [
        "# Not required since GridSearchCV is being used\n",
        "\n",
        "# from sklearn.model_selection import train_test_split\n",
        "\n",
        "# x_train, x_val, y_train, y_val = train_test_split(x, y, test_size = 0.3, random_state = 30)"
      ],
      "metadata": {
        "id": "ReehI2R1JM6N"
      },
      "execution_count": null,
      "outputs": []
    },
    {
      "cell_type": "markdown",
      "source": [
        "# Train Models"
      ],
      "metadata": {
        "id": "TsZitHCzEAgB"
      }
    },
    {
      "cell_type": "markdown",
      "source": [
        "Import necessary ML libraries for training data \\\n",
        "Create a dictionary to store model and score values"
      ],
      "metadata": {
        "id": "grdwoZyoCSvz"
      }
    },
    {
      "cell_type": "code",
      "source": [
        "from sklearn.linear_model import LinearRegression, Ridge, Lasso, ElasticNet\n",
        "from sklearn.ensemble import RandomForestRegressor\n",
        "from sklearn.ensemble import GradientBoostingRegressor\n",
        "from sklearn.svm import SVR\n",
        "from sklearn.model_selection import GridSearchCV\n",
        "\n",
        "from sklearn.metrics import mean_squared_error, mean_squared_log_error\n",
        "\n",
        "dict_ = {\n",
        "    'model': [],\n",
        "    'rmsle_score_valid': [],\n",
        "    'best_param': [],\n",
        "    'best_estimator': []\n",
        "}\n",
        "models = {\n",
        "    'LinearRegression': {\n",
        "        'model': LinearRegression(),\n",
        "        'param_grid': {\n",
        "            # No param to test\n",
        "        }\n",
        "    },\n",
        "    'RidgeRegression': {\n",
        "        'model': Ridge(),\n",
        "        'param_grid': {\n",
        "            'alpha': np.linspace(0.1, 1, 5)\n",
        "        }\n",
        "    },\n",
        "    'LassoRegression': {\n",
        "        'model': Lasso(),\n",
        "        'param_grid': {\n",
        "            'alpha': np.linspace(0.1, 1, 5)\n",
        "        }\n",
        "    },\n",
        "    'ElasticNet': {\n",
        "        'model': ElasticNet(),\n",
        "        'param_grid': {\n",
        "            'alpha': np.linspace(0.1, 1, 5),\n",
        "            'l1_ratio': np.linspace(0.1, 1, 5)\n",
        "        }\n",
        "    },\n",
        "    'RandomForest': {\n",
        "        'model': RandomForestRegressor(),\n",
        "        'param_grid': {\n",
        "            'n_estimators': [20, 50, 60, 70],\n",
        "            # 'max_depth': np.linspace(1, 100, num=11, dtype=\"int\"),\n",
        "            'min_samples_leaf': np.linspace(10, 20, num=5, dtype=\"int\")\n",
        "        }\n",
        "    },\n",
        "    # 'GradientBoost': {\n",
        "    #     'model': GradientBoostingRegressor(),\n",
        "    #     'param_grid': {\n",
        "    #         'n_estimators': [10, 20, 50, 60, 80],\n",
        "    #         'learning_rate': [0.01, 0.1, 0.5, .75],\n",
        "    #         # 'subsample': np.linspace(0, 1, 5)\n",
        "    #     }\n",
        "    # },\n",
        "    # 'SVR': {\n",
        "    #     'model': SVR(),\n",
        "    #     'param_grid': {\n",
        "    #         'kernel': ['linear', 'poly', 'rbf'],\n",
        "    #         'degree': [1,2,3,],\n",
        "    #         'C': [0.05, 0.1, 0.5, 0.7],\n",
        "    #         'epsilon': [0.05, 0.1, 0.5, 0.7]\n",
        "    #     }\n",
        "    # }\n",
        "    \n",
        "}\n"
      ],
      "metadata": {
        "id": "AyuNjugnJnN_"
      },
      "execution_count": 24,
      "outputs": []
    },
    {
      "cell_type": "code",
      "source": [
        "from sklearn.metrics import make_scorer\n",
        "\n",
        "def evaluation_metric(y_truth, y_pred):\n",
        "  y_pred = abs(y_pred)\n",
        "  # y_truth = abs(y_truth)\n",
        "  return max(0, 100 - np.sqrt(mean_squared_log_error(y_truth, y_pred)))\n",
        "\n",
        "scorer = make_scorer(evaluation_metric, greater_is_better=True)"
      ],
      "metadata": {
        "id": "z2FV2JUDb-hD"
      },
      "execution_count": 25,
      "outputs": []
    },
    {
      "cell_type": "markdown",
      "source": [
        "Train models and store scores in the dictionary"
      ],
      "metadata": {
        "id": "M5g2ngMGDEaZ"
      }
    },
    {
      "cell_type": "code",
      "source": [
        "for model_name, model_obj in models.items():\n",
        "  dict_['model'].append(model_name)\n",
        "  trained_model = GridSearchCV(model_obj['model'], param_grid=model_obj['param_grid'], scoring=scorer, cv=10).fit(x_train, y_train)\n",
        "  dict_['rmsle_score_valid'].append(trained_model.best_score_)\n",
        "  dict_['best_estimator'].append(trained_model.best_estimator_)\n",
        "  dict_['best_param'].append(trained_model.best_params_)\n",
        "\n",
        "  # dict_['rmsle_score_valid'].append(max(0, 100 - np.sqrt(mean_squared_log_error(y_val, abs(model_obj.fit(x_train, y_train).predict(x_val))))))\n",
        "  # dict_['r2_score'].append(model_obj.fit(x_train, y_train).score(x_val, y_val))\n",
        "\n"
      ],
      "metadata": {
        "id": "v_RCGDfRDPCh"
      },
      "execution_count": 26,
      "outputs": []
    },
    {
      "cell_type": "markdown",
      "source": [
        "Checkout the stats for the trained models"
      ],
      "metadata": {
        "id": "Bxf8rUntDMQI"
      }
    },
    {
      "cell_type": "code",
      "source": [
        "result = pd.DataFrame(dict_)\n",
        "result\n"
      ],
      "metadata": {
        "colab": {
          "base_uri": "https://localhost:8080/",
          "height": 206
        },
        "id": "bIbxkjFRLFV2",
        "outputId": "a35c44bc-cf4c-415a-dbdd-6cfe892a38c2"
      },
      "execution_count": 27,
      "outputs": [
        {
          "output_type": "execute_result",
          "data": {
            "text/plain": [
              "              model  rmsle_score_valid  \\\n",
              "0  LinearRegression          99.515112   \n",
              "1   RidgeRegression          99.517196   \n",
              "2   LassoRegression          99.521556   \n",
              "3        ElasticNet          99.556632   \n",
              "4      RandomForest          99.890838   \n",
              "\n",
              "                                     best_param  \\\n",
              "0                                            {}   \n",
              "1                                {'alpha': 1.0}   \n",
              "2                               {'alpha': 0.55}   \n",
              "3             {'alpha': 0.1, 'l1_ratio': 0.325}   \n",
              "4  {'min_samples_leaf': 10, 'n_estimators': 20}   \n",
              "\n",
              "                                      best_estimator  \n",
              "0                                 LinearRegression()  \n",
              "1                                            Ridge()  \n",
              "2                                  Lasso(alpha=0.55)  \n",
              "3              ElasticNet(alpha=0.1, l1_ratio=0.325)  \n",
              "4  (DecisionTreeRegressor(max_features='auto', mi...  "
            ],
            "text/html": [
              "\n",
              "  <div id=\"df-9647f585-5c5f-4f88-b85f-1390cce0c6ac\">\n",
              "    <div class=\"colab-df-container\">\n",
              "      <div>\n",
              "<style scoped>\n",
              "    .dataframe tbody tr th:only-of-type {\n",
              "        vertical-align: middle;\n",
              "    }\n",
              "\n",
              "    .dataframe tbody tr th {\n",
              "        vertical-align: top;\n",
              "    }\n",
              "\n",
              "    .dataframe thead th {\n",
              "        text-align: right;\n",
              "    }\n",
              "</style>\n",
              "<table border=\"1\" class=\"dataframe\">\n",
              "  <thead>\n",
              "    <tr style=\"text-align: right;\">\n",
              "      <th></th>\n",
              "      <th>model</th>\n",
              "      <th>rmsle_score_valid</th>\n",
              "      <th>best_param</th>\n",
              "      <th>best_estimator</th>\n",
              "    </tr>\n",
              "  </thead>\n",
              "  <tbody>\n",
              "    <tr>\n",
              "      <th>0</th>\n",
              "      <td>LinearRegression</td>\n",
              "      <td>99.515112</td>\n",
              "      <td>{}</td>\n",
              "      <td>LinearRegression()</td>\n",
              "    </tr>\n",
              "    <tr>\n",
              "      <th>1</th>\n",
              "      <td>RidgeRegression</td>\n",
              "      <td>99.517196</td>\n",
              "      <td>{'alpha': 1.0}</td>\n",
              "      <td>Ridge()</td>\n",
              "    </tr>\n",
              "    <tr>\n",
              "      <th>2</th>\n",
              "      <td>LassoRegression</td>\n",
              "      <td>99.521556</td>\n",
              "      <td>{'alpha': 0.55}</td>\n",
              "      <td>Lasso(alpha=0.55)</td>\n",
              "    </tr>\n",
              "    <tr>\n",
              "      <th>3</th>\n",
              "      <td>ElasticNet</td>\n",
              "      <td>99.556632</td>\n",
              "      <td>{'alpha': 0.1, 'l1_ratio': 0.325}</td>\n",
              "      <td>ElasticNet(alpha=0.1, l1_ratio=0.325)</td>\n",
              "    </tr>\n",
              "    <tr>\n",
              "      <th>4</th>\n",
              "      <td>RandomForest</td>\n",
              "      <td>99.890838</td>\n",
              "      <td>{'min_samples_leaf': 10, 'n_estimators': 20}</td>\n",
              "      <td>(DecisionTreeRegressor(max_features='auto', mi...</td>\n",
              "    </tr>\n",
              "  </tbody>\n",
              "</table>\n",
              "</div>\n",
              "      <button class=\"colab-df-convert\" onclick=\"convertToInteractive('df-9647f585-5c5f-4f88-b85f-1390cce0c6ac')\"\n",
              "              title=\"Convert this dataframe to an interactive table.\"\n",
              "              style=\"display:none;\">\n",
              "        \n",
              "  <svg xmlns=\"http://www.w3.org/2000/svg\" height=\"24px\"viewBox=\"0 0 24 24\"\n",
              "       width=\"24px\">\n",
              "    <path d=\"M0 0h24v24H0V0z\" fill=\"none\"/>\n",
              "    <path d=\"M18.56 5.44l.94 2.06.94-2.06 2.06-.94-2.06-.94-.94-2.06-.94 2.06-2.06.94zm-11 1L8.5 8.5l.94-2.06 2.06-.94-2.06-.94L8.5 2.5l-.94 2.06-2.06.94zm10 10l.94 2.06.94-2.06 2.06-.94-2.06-.94-.94-2.06-.94 2.06-2.06.94z\"/><path d=\"M17.41 7.96l-1.37-1.37c-.4-.4-.92-.59-1.43-.59-.52 0-1.04.2-1.43.59L10.3 9.45l-7.72 7.72c-.78.78-.78 2.05 0 2.83L4 21.41c.39.39.9.59 1.41.59.51 0 1.02-.2 1.41-.59l7.78-7.78 2.81-2.81c.8-.78.8-2.07 0-2.86zM5.41 20L4 18.59l7.72-7.72 1.47 1.35L5.41 20z\"/>\n",
              "  </svg>\n",
              "      </button>\n",
              "      \n",
              "  <style>\n",
              "    .colab-df-container {\n",
              "      display:flex;\n",
              "      flex-wrap:wrap;\n",
              "      gap: 12px;\n",
              "    }\n",
              "\n",
              "    .colab-df-convert {\n",
              "      background-color: #E8F0FE;\n",
              "      border: none;\n",
              "      border-radius: 50%;\n",
              "      cursor: pointer;\n",
              "      display: none;\n",
              "      fill: #1967D2;\n",
              "      height: 32px;\n",
              "      padding: 0 0 0 0;\n",
              "      width: 32px;\n",
              "    }\n",
              "\n",
              "    .colab-df-convert:hover {\n",
              "      background-color: #E2EBFA;\n",
              "      box-shadow: 0px 1px 2px rgba(60, 64, 67, 0.3), 0px 1px 3px 1px rgba(60, 64, 67, 0.15);\n",
              "      fill: #174EA6;\n",
              "    }\n",
              "\n",
              "    [theme=dark] .colab-df-convert {\n",
              "      background-color: #3B4455;\n",
              "      fill: #D2E3FC;\n",
              "    }\n",
              "\n",
              "    [theme=dark] .colab-df-convert:hover {\n",
              "      background-color: #434B5C;\n",
              "      box-shadow: 0px 1px 3px 1px rgba(0, 0, 0, 0.15);\n",
              "      filter: drop-shadow(0px 1px 2px rgba(0, 0, 0, 0.3));\n",
              "      fill: #FFFFFF;\n",
              "    }\n",
              "  </style>\n",
              "\n",
              "      <script>\n",
              "        const buttonEl =\n",
              "          document.querySelector('#df-9647f585-5c5f-4f88-b85f-1390cce0c6ac button.colab-df-convert');\n",
              "        buttonEl.style.display =\n",
              "          google.colab.kernel.accessAllowed ? 'block' : 'none';\n",
              "\n",
              "        async function convertToInteractive(key) {\n",
              "          const element = document.querySelector('#df-9647f585-5c5f-4f88-b85f-1390cce0c6ac');\n",
              "          const dataTable =\n",
              "            await google.colab.kernel.invokeFunction('convertToInteractive',\n",
              "                                                     [key], {});\n",
              "          if (!dataTable) return;\n",
              "\n",
              "          const docLinkHtml = 'Like what you see? Visit the ' +\n",
              "            '<a target=\"_blank\" href=https://colab.research.google.com/notebooks/data_table.ipynb>data table notebook</a>'\n",
              "            + ' to learn more about interactive tables.';\n",
              "          element.innerHTML = '';\n",
              "          dataTable['output_type'] = 'display_data';\n",
              "          await google.colab.output.renderOutput(dataTable, element);\n",
              "          const docLink = document.createElement('div');\n",
              "          docLink.innerHTML = docLinkHtml;\n",
              "          element.appendChild(docLink);\n",
              "        }\n",
              "      </script>\n",
              "    </div>\n",
              "  </div>\n",
              "  "
            ]
          },
          "metadata": {},
          "execution_count": 27
        }
      ]
    },
    {
      "cell_type": "markdown",
      "source": [
        "Sort the stats by descending order of \"rmsle\" score"
      ],
      "metadata": {
        "id": "dI0CRZDwDXl6"
      }
    },
    {
      "cell_type": "code",
      "source": [
        "result.sort_values(by=['rmsle_score_valid'], ascending=False)"
      ],
      "metadata": {
        "colab": {
          "base_uri": "https://localhost:8080/",
          "height": 206
        },
        "id": "9vFrIDq_LNg0",
        "outputId": "e7603c4d-60f3-4300-9c73-60cdcfbca39a"
      },
      "execution_count": 28,
      "outputs": [
        {
          "output_type": "execute_result",
          "data": {
            "text/plain": [
              "              model  rmsle_score_valid  \\\n",
              "4      RandomForest          99.890838   \n",
              "3        ElasticNet          99.556632   \n",
              "2   LassoRegression          99.521556   \n",
              "1   RidgeRegression          99.517196   \n",
              "0  LinearRegression          99.515112   \n",
              "\n",
              "                                     best_param  \\\n",
              "4  {'min_samples_leaf': 10, 'n_estimators': 20}   \n",
              "3             {'alpha': 0.1, 'l1_ratio': 0.325}   \n",
              "2                               {'alpha': 0.55}   \n",
              "1                                {'alpha': 1.0}   \n",
              "0                                            {}   \n",
              "\n",
              "                                      best_estimator  \n",
              "4  (DecisionTreeRegressor(max_features='auto', mi...  \n",
              "3              ElasticNet(alpha=0.1, l1_ratio=0.325)  \n",
              "2                                  Lasso(alpha=0.55)  \n",
              "1                                            Ridge()  \n",
              "0                                 LinearRegression()  "
            ],
            "text/html": [
              "\n",
              "  <div id=\"df-ba8e87c2-f489-4305-9417-d4751d3d914d\">\n",
              "    <div class=\"colab-df-container\">\n",
              "      <div>\n",
              "<style scoped>\n",
              "    .dataframe tbody tr th:only-of-type {\n",
              "        vertical-align: middle;\n",
              "    }\n",
              "\n",
              "    .dataframe tbody tr th {\n",
              "        vertical-align: top;\n",
              "    }\n",
              "\n",
              "    .dataframe thead th {\n",
              "        text-align: right;\n",
              "    }\n",
              "</style>\n",
              "<table border=\"1\" class=\"dataframe\">\n",
              "  <thead>\n",
              "    <tr style=\"text-align: right;\">\n",
              "      <th></th>\n",
              "      <th>model</th>\n",
              "      <th>rmsle_score_valid</th>\n",
              "      <th>best_param</th>\n",
              "      <th>best_estimator</th>\n",
              "    </tr>\n",
              "  </thead>\n",
              "  <tbody>\n",
              "    <tr>\n",
              "      <th>4</th>\n",
              "      <td>RandomForest</td>\n",
              "      <td>99.890838</td>\n",
              "      <td>{'min_samples_leaf': 10, 'n_estimators': 20}</td>\n",
              "      <td>(DecisionTreeRegressor(max_features='auto', mi...</td>\n",
              "    </tr>\n",
              "    <tr>\n",
              "      <th>3</th>\n",
              "      <td>ElasticNet</td>\n",
              "      <td>99.556632</td>\n",
              "      <td>{'alpha': 0.1, 'l1_ratio': 0.325}</td>\n",
              "      <td>ElasticNet(alpha=0.1, l1_ratio=0.325)</td>\n",
              "    </tr>\n",
              "    <tr>\n",
              "      <th>2</th>\n",
              "      <td>LassoRegression</td>\n",
              "      <td>99.521556</td>\n",
              "      <td>{'alpha': 0.55}</td>\n",
              "      <td>Lasso(alpha=0.55)</td>\n",
              "    </tr>\n",
              "    <tr>\n",
              "      <th>1</th>\n",
              "      <td>RidgeRegression</td>\n",
              "      <td>99.517196</td>\n",
              "      <td>{'alpha': 1.0}</td>\n",
              "      <td>Ridge()</td>\n",
              "    </tr>\n",
              "    <tr>\n",
              "      <th>0</th>\n",
              "      <td>LinearRegression</td>\n",
              "      <td>99.515112</td>\n",
              "      <td>{}</td>\n",
              "      <td>LinearRegression()</td>\n",
              "    </tr>\n",
              "  </tbody>\n",
              "</table>\n",
              "</div>\n",
              "      <button class=\"colab-df-convert\" onclick=\"convertToInteractive('df-ba8e87c2-f489-4305-9417-d4751d3d914d')\"\n",
              "              title=\"Convert this dataframe to an interactive table.\"\n",
              "              style=\"display:none;\">\n",
              "        \n",
              "  <svg xmlns=\"http://www.w3.org/2000/svg\" height=\"24px\"viewBox=\"0 0 24 24\"\n",
              "       width=\"24px\">\n",
              "    <path d=\"M0 0h24v24H0V0z\" fill=\"none\"/>\n",
              "    <path d=\"M18.56 5.44l.94 2.06.94-2.06 2.06-.94-2.06-.94-.94-2.06-.94 2.06-2.06.94zm-11 1L8.5 8.5l.94-2.06 2.06-.94-2.06-.94L8.5 2.5l-.94 2.06-2.06.94zm10 10l.94 2.06.94-2.06 2.06-.94-2.06-.94-.94-2.06-.94 2.06-2.06.94z\"/><path d=\"M17.41 7.96l-1.37-1.37c-.4-.4-.92-.59-1.43-.59-.52 0-1.04.2-1.43.59L10.3 9.45l-7.72 7.72c-.78.78-.78 2.05 0 2.83L4 21.41c.39.39.9.59 1.41.59.51 0 1.02-.2 1.41-.59l7.78-7.78 2.81-2.81c.8-.78.8-2.07 0-2.86zM5.41 20L4 18.59l7.72-7.72 1.47 1.35L5.41 20z\"/>\n",
              "  </svg>\n",
              "      </button>\n",
              "      \n",
              "  <style>\n",
              "    .colab-df-container {\n",
              "      display:flex;\n",
              "      flex-wrap:wrap;\n",
              "      gap: 12px;\n",
              "    }\n",
              "\n",
              "    .colab-df-convert {\n",
              "      background-color: #E8F0FE;\n",
              "      border: none;\n",
              "      border-radius: 50%;\n",
              "      cursor: pointer;\n",
              "      display: none;\n",
              "      fill: #1967D2;\n",
              "      height: 32px;\n",
              "      padding: 0 0 0 0;\n",
              "      width: 32px;\n",
              "    }\n",
              "\n",
              "    .colab-df-convert:hover {\n",
              "      background-color: #E2EBFA;\n",
              "      box-shadow: 0px 1px 2px rgba(60, 64, 67, 0.3), 0px 1px 3px 1px rgba(60, 64, 67, 0.15);\n",
              "      fill: #174EA6;\n",
              "    }\n",
              "\n",
              "    [theme=dark] .colab-df-convert {\n",
              "      background-color: #3B4455;\n",
              "      fill: #D2E3FC;\n",
              "    }\n",
              "\n",
              "    [theme=dark] .colab-df-convert:hover {\n",
              "      background-color: #434B5C;\n",
              "      box-shadow: 0px 1px 3px 1px rgba(0, 0, 0, 0.15);\n",
              "      filter: drop-shadow(0px 1px 2px rgba(0, 0, 0, 0.3));\n",
              "      fill: #FFFFFF;\n",
              "    }\n",
              "  </style>\n",
              "\n",
              "      <script>\n",
              "        const buttonEl =\n",
              "          document.querySelector('#df-ba8e87c2-f489-4305-9417-d4751d3d914d button.colab-df-convert');\n",
              "        buttonEl.style.display =\n",
              "          google.colab.kernel.accessAllowed ? 'block' : 'none';\n",
              "\n",
              "        async function convertToInteractive(key) {\n",
              "          const element = document.querySelector('#df-ba8e87c2-f489-4305-9417-d4751d3d914d');\n",
              "          const dataTable =\n",
              "            await google.colab.kernel.invokeFunction('convertToInteractive',\n",
              "                                                     [key], {});\n",
              "          if (!dataTable) return;\n",
              "\n",
              "          const docLinkHtml = 'Like what you see? Visit the ' +\n",
              "            '<a target=\"_blank\" href=https://colab.research.google.com/notebooks/data_table.ipynb>data table notebook</a>'\n",
              "            + ' to learn more about interactive tables.';\n",
              "          element.innerHTML = '';\n",
              "          dataTable['output_type'] = 'display_data';\n",
              "          await google.colab.output.renderOutput(dataTable, element);\n",
              "          const docLink = document.createElement('div');\n",
              "          docLink.innerHTML = docLinkHtml;\n",
              "          element.appendChild(docLink);\n",
              "        }\n",
              "      </script>\n",
              "    </div>\n",
              "  </div>\n",
              "  "
            ]
          },
          "metadata": {},
          "execution_count": 28
        }
      ]
    },
    {
      "cell_type": "markdown",
      "source": [
        "Capture best found model"
      ],
      "metadata": {
        "id": "dYSGHoJa-oC-"
      }
    },
    {
      "cell_type": "code",
      "source": [
        "rf = result['best_estimator'].values[4]\n",
        "rf"
      ],
      "metadata": {
        "colab": {
          "base_uri": "https://localhost:8080/"
        },
        "id": "z6v7wv0X-st_",
        "outputId": "f287f410-7d28-4726-de8b-c4c9a6f0c5f8"
      },
      "execution_count": 33,
      "outputs": [
        {
          "output_type": "execute_result",
          "data": {
            "text/plain": [
              "RandomForestRegressor(min_samples_leaf=10, n_estimators=20)"
            ]
          },
          "metadata": {},
          "execution_count": 33
        }
      ]
    },
    {
      "cell_type": "markdown",
      "source": [
        "# Preprocess Test (unseen) data"
      ],
      "metadata": {
        "id": "l8b-PP5jEKvI"
      }
    },
    {
      "cell_type": "markdown",
      "source": [
        "Checkout test data"
      ],
      "metadata": {
        "id": "xGnTJdnxE2Cl"
      }
    },
    {
      "cell_type": "code",
      "source": [
        "test = pd.read_csv('https://raw.githubusercontent.com/pratzz/HackerEarthCarnivalWars/main/test.csv')\n",
        "test.head()"
      ],
      "metadata": {
        "colab": {
          "base_uri": "https://localhost:8080/",
          "height": 374
        },
        "id": "Nr55WJ7PEV0H",
        "outputId": "1181d8f2-e12c-4163-be0f-7353f05ae13b"
      },
      "execution_count": 34,
      "outputs": [
        {
          "output_type": "execute_result",
          "data": {
            "text/plain": [
              "         Product_id  Stall_no             instock_date  Market_Category  \\\n",
              "0  SCHE4YSTDVPVZVXW      39.0  2016-01-13 07:45:08.000              205   \n",
              "1  ACCEGCATKHNRXUHW      49.0  2015-08-23 20:37:05.000                3   \n",
              "2  NKCE6GJ5XVJDXNNZ       1.0  2015-11-14 18:12:39.000              183   \n",
              "3  NKCEB8BK3ZXDHDHM       8.0  2015-11-21 04:56:19.000              358   \n",
              "4  TOPEFDXSAHRNPF94      33.0  2015-05-06 15:09:46.000              167   \n",
              "\n",
              "  Customer_name Loyalty_customer Product_Category  Grade  Demand  \\\n",
              "0        Ivanka              No           Fashion      0      90   \n",
              "1         Isaak              Yes          Fashion      0      87   \n",
              "2      Analiese              No        Technology      2      55   \n",
              "3         Rusty              Yes       Child_care      3      86   \n",
              "4        Eloise              No        Technology      0      27   \n",
              "\n",
              "   Discount_avail  charges_1  charges_2 (%)  Minimum_price  Maximum_price  \n",
              "0               0      380.0           16.0         2576.0           3340  \n",
              "1               0      393.0           16.0         1202.0           1955  \n",
              "2               0      493.0            9.0         7175.0          15715  \n",
              "3               0      303.0           16.0         5404.0          13078  \n",
              "4               0      567.0           16.0         4069.0           6244  "
            ],
            "text/html": [
              "\n",
              "  <div id=\"df-bcd5f570-defa-4169-b4c0-f33cf8ea7e40\">\n",
              "    <div class=\"colab-df-container\">\n",
              "      <div>\n",
              "<style scoped>\n",
              "    .dataframe tbody tr th:only-of-type {\n",
              "        vertical-align: middle;\n",
              "    }\n",
              "\n",
              "    .dataframe tbody tr th {\n",
              "        vertical-align: top;\n",
              "    }\n",
              "\n",
              "    .dataframe thead th {\n",
              "        text-align: right;\n",
              "    }\n",
              "</style>\n",
              "<table border=\"1\" class=\"dataframe\">\n",
              "  <thead>\n",
              "    <tr style=\"text-align: right;\">\n",
              "      <th></th>\n",
              "      <th>Product_id</th>\n",
              "      <th>Stall_no</th>\n",
              "      <th>instock_date</th>\n",
              "      <th>Market_Category</th>\n",
              "      <th>Customer_name</th>\n",
              "      <th>Loyalty_customer</th>\n",
              "      <th>Product_Category</th>\n",
              "      <th>Grade</th>\n",
              "      <th>Demand</th>\n",
              "      <th>Discount_avail</th>\n",
              "      <th>charges_1</th>\n",
              "      <th>charges_2 (%)</th>\n",
              "      <th>Minimum_price</th>\n",
              "      <th>Maximum_price</th>\n",
              "    </tr>\n",
              "  </thead>\n",
              "  <tbody>\n",
              "    <tr>\n",
              "      <th>0</th>\n",
              "      <td>SCHE4YSTDVPVZVXW</td>\n",
              "      <td>39.0</td>\n",
              "      <td>2016-01-13 07:45:08.000</td>\n",
              "      <td>205</td>\n",
              "      <td>Ivanka</td>\n",
              "      <td>No</td>\n",
              "      <td>Fashion</td>\n",
              "      <td>0</td>\n",
              "      <td>90</td>\n",
              "      <td>0</td>\n",
              "      <td>380.0</td>\n",
              "      <td>16.0</td>\n",
              "      <td>2576.0</td>\n",
              "      <td>3340</td>\n",
              "    </tr>\n",
              "    <tr>\n",
              "      <th>1</th>\n",
              "      <td>ACCEGCATKHNRXUHW</td>\n",
              "      <td>49.0</td>\n",
              "      <td>2015-08-23 20:37:05.000</td>\n",
              "      <td>3</td>\n",
              "      <td>Isaak</td>\n",
              "      <td>Yes</td>\n",
              "      <td>Fashion</td>\n",
              "      <td>0</td>\n",
              "      <td>87</td>\n",
              "      <td>0</td>\n",
              "      <td>393.0</td>\n",
              "      <td>16.0</td>\n",
              "      <td>1202.0</td>\n",
              "      <td>1955</td>\n",
              "    </tr>\n",
              "    <tr>\n",
              "      <th>2</th>\n",
              "      <td>NKCE6GJ5XVJDXNNZ</td>\n",
              "      <td>1.0</td>\n",
              "      <td>2015-11-14 18:12:39.000</td>\n",
              "      <td>183</td>\n",
              "      <td>Analiese</td>\n",
              "      <td>No</td>\n",
              "      <td>Technology</td>\n",
              "      <td>2</td>\n",
              "      <td>55</td>\n",
              "      <td>0</td>\n",
              "      <td>493.0</td>\n",
              "      <td>9.0</td>\n",
              "      <td>7175.0</td>\n",
              "      <td>15715</td>\n",
              "    </tr>\n",
              "    <tr>\n",
              "      <th>3</th>\n",
              "      <td>NKCEB8BK3ZXDHDHM</td>\n",
              "      <td>8.0</td>\n",
              "      <td>2015-11-21 04:56:19.000</td>\n",
              "      <td>358</td>\n",
              "      <td>Rusty</td>\n",
              "      <td>Yes</td>\n",
              "      <td>Child_care</td>\n",
              "      <td>3</td>\n",
              "      <td>86</td>\n",
              "      <td>0</td>\n",
              "      <td>303.0</td>\n",
              "      <td>16.0</td>\n",
              "      <td>5404.0</td>\n",
              "      <td>13078</td>\n",
              "    </tr>\n",
              "    <tr>\n",
              "      <th>4</th>\n",
              "      <td>TOPEFDXSAHRNPF94</td>\n",
              "      <td>33.0</td>\n",
              "      <td>2015-05-06 15:09:46.000</td>\n",
              "      <td>167</td>\n",
              "      <td>Eloise</td>\n",
              "      <td>No</td>\n",
              "      <td>Technology</td>\n",
              "      <td>0</td>\n",
              "      <td>27</td>\n",
              "      <td>0</td>\n",
              "      <td>567.0</td>\n",
              "      <td>16.0</td>\n",
              "      <td>4069.0</td>\n",
              "      <td>6244</td>\n",
              "    </tr>\n",
              "  </tbody>\n",
              "</table>\n",
              "</div>\n",
              "      <button class=\"colab-df-convert\" onclick=\"convertToInteractive('df-bcd5f570-defa-4169-b4c0-f33cf8ea7e40')\"\n",
              "              title=\"Convert this dataframe to an interactive table.\"\n",
              "              style=\"display:none;\">\n",
              "        \n",
              "  <svg xmlns=\"http://www.w3.org/2000/svg\" height=\"24px\"viewBox=\"0 0 24 24\"\n",
              "       width=\"24px\">\n",
              "    <path d=\"M0 0h24v24H0V0z\" fill=\"none\"/>\n",
              "    <path d=\"M18.56 5.44l.94 2.06.94-2.06 2.06-.94-2.06-.94-.94-2.06-.94 2.06-2.06.94zm-11 1L8.5 8.5l.94-2.06 2.06-.94-2.06-.94L8.5 2.5l-.94 2.06-2.06.94zm10 10l.94 2.06.94-2.06 2.06-.94-2.06-.94-.94-2.06-.94 2.06-2.06.94z\"/><path d=\"M17.41 7.96l-1.37-1.37c-.4-.4-.92-.59-1.43-.59-.52 0-1.04.2-1.43.59L10.3 9.45l-7.72 7.72c-.78.78-.78 2.05 0 2.83L4 21.41c.39.39.9.59 1.41.59.51 0 1.02-.2 1.41-.59l7.78-7.78 2.81-2.81c.8-.78.8-2.07 0-2.86zM5.41 20L4 18.59l7.72-7.72 1.47 1.35L5.41 20z\"/>\n",
              "  </svg>\n",
              "      </button>\n",
              "      \n",
              "  <style>\n",
              "    .colab-df-container {\n",
              "      display:flex;\n",
              "      flex-wrap:wrap;\n",
              "      gap: 12px;\n",
              "    }\n",
              "\n",
              "    .colab-df-convert {\n",
              "      background-color: #E8F0FE;\n",
              "      border: none;\n",
              "      border-radius: 50%;\n",
              "      cursor: pointer;\n",
              "      display: none;\n",
              "      fill: #1967D2;\n",
              "      height: 32px;\n",
              "      padding: 0 0 0 0;\n",
              "      width: 32px;\n",
              "    }\n",
              "\n",
              "    .colab-df-convert:hover {\n",
              "      background-color: #E2EBFA;\n",
              "      box-shadow: 0px 1px 2px rgba(60, 64, 67, 0.3), 0px 1px 3px 1px rgba(60, 64, 67, 0.15);\n",
              "      fill: #174EA6;\n",
              "    }\n",
              "\n",
              "    [theme=dark] .colab-df-convert {\n",
              "      background-color: #3B4455;\n",
              "      fill: #D2E3FC;\n",
              "    }\n",
              "\n",
              "    [theme=dark] .colab-df-convert:hover {\n",
              "      background-color: #434B5C;\n",
              "      box-shadow: 0px 1px 3px 1px rgba(0, 0, 0, 0.15);\n",
              "      filter: drop-shadow(0px 1px 2px rgba(0, 0, 0, 0.3));\n",
              "      fill: #FFFFFF;\n",
              "    }\n",
              "  </style>\n",
              "\n",
              "      <script>\n",
              "        const buttonEl =\n",
              "          document.querySelector('#df-bcd5f570-defa-4169-b4c0-f33cf8ea7e40 button.colab-df-convert');\n",
              "        buttonEl.style.display =\n",
              "          google.colab.kernel.accessAllowed ? 'block' : 'none';\n",
              "\n",
              "        async function convertToInteractive(key) {\n",
              "          const element = document.querySelector('#df-bcd5f570-defa-4169-b4c0-f33cf8ea7e40');\n",
              "          const dataTable =\n",
              "            await google.colab.kernel.invokeFunction('convertToInteractive',\n",
              "                                                     [key], {});\n",
              "          if (!dataTable) return;\n",
              "\n",
              "          const docLinkHtml = 'Like what you see? Visit the ' +\n",
              "            '<a target=\"_blank\" href=https://colab.research.google.com/notebooks/data_table.ipynb>data table notebook</a>'\n",
              "            + ' to learn more about interactive tables.';\n",
              "          element.innerHTML = '';\n",
              "          dataTable['output_type'] = 'display_data';\n",
              "          await google.colab.output.renderOutput(dataTable, element);\n",
              "          const docLink = document.createElement('div');\n",
              "          docLink.innerHTML = docLinkHtml;\n",
              "          element.appendChild(docLink);\n",
              "        }\n",
              "      </script>\n",
              "    </div>\n",
              "  </div>\n",
              "  "
            ]
          },
          "metadata": {},
          "execution_count": 34
        }
      ]
    },
    {
      "cell_type": "code",
      "source": [
        "test.info()"
      ],
      "metadata": {
        "colab": {
          "base_uri": "https://localhost:8080/"
        },
        "id": "aclnwuruFELl",
        "outputId": "fd54b94f-ccf9-4277-e733-a8ac4066ac9c"
      },
      "execution_count": 35,
      "outputs": [
        {
          "output_type": "stream",
          "name": "stdout",
          "text": [
            "<class 'pandas.core.frame.DataFrame'>\n",
            "RangeIndex: 3430 entries, 0 to 3429\n",
            "Data columns (total 14 columns):\n",
            " #   Column            Non-Null Count  Dtype  \n",
            "---  ------            --------------  -----  \n",
            " 0   Product_id        3430 non-null   object \n",
            " 1   Stall_no          3429 non-null   float64\n",
            " 2   instock_date      3430 non-null   object \n",
            " 3   Market_Category   3430 non-null   int64  \n",
            " 4   Customer_name     3377 non-null   object \n",
            " 5   Loyalty_customer  3430 non-null   object \n",
            " 6   Product_Category  3430 non-null   object \n",
            " 7   Grade             3430 non-null   int64  \n",
            " 8   Demand            3430 non-null   int64  \n",
            " 9   Discount_avail    3430 non-null   int64  \n",
            " 10  charges_1         3394 non-null   float64\n",
            " 11  charges_2 (%)     3425 non-null   float64\n",
            " 12  Minimum_price     3416 non-null   float64\n",
            " 13  Maximum_price     3430 non-null   int64  \n",
            "dtypes: float64(4), int64(5), object(5)\n",
            "memory usage: 375.3+ KB\n"
          ]
        }
      ]
    },
    {
      "cell_type": "markdown",
      "source": [
        "Extract information from \"instock_date\" column"
      ],
      "metadata": {
        "id": "pXcpAE6bE5Rv"
      }
    },
    {
      "cell_type": "code",
      "source": [
        "test['instock_date'] = pd.to_datetime(test['instock_date'])\n",
        "test['year'] = test['instock_date'].dt.year\n",
        "test['month'] =  test['instock_date'].dt.month\n",
        "test['day'] =  test['instock_date'].dt.day\n",
        "test['hour'] =  test['instock_date'].dt.hour"
      ],
      "metadata": {
        "id": "mRdsmYXFFP0N"
      },
      "execution_count": 36,
      "outputs": []
    },
    {
      "cell_type": "markdown",
      "source": [
        "Check for unique data against each column"
      ],
      "metadata": {
        "id": "P6ZZ0JzCICFe"
      }
    },
    {
      "cell_type": "code",
      "source": [
        "test.nunique()"
      ],
      "metadata": {
        "colab": {
          "base_uri": "https://localhost:8080/"
        },
        "id": "_fcZOPx6NEJs",
        "outputId": "9c0e8614-bc5d-4d28-e70f-475f1d030863"
      },
      "execution_count": 37,
      "outputs": [
        {
          "output_type": "execute_result",
          "data": {
            "text/plain": [
              "Product_id          3430\n",
              "Stall_no              50\n",
              "instock_date        3096\n",
              "Market_Category      224\n",
              "Customer_name       3319\n",
              "Loyalty_customer       2\n",
              "Product_Category      10\n",
              "Grade                  4\n",
              "Demand               100\n",
              "Discount_avail         2\n",
              "charges_1            450\n",
              "charges_2 (%)         17\n",
              "Minimum_price       2685\n",
              "Maximum_price       2901\n",
              "year                   3\n",
              "month                 11\n",
              "day                   31\n",
              "hour                  24\n",
              "dtype: int64"
            ]
          },
          "metadata": {},
          "execution_count": 37
        }
      ]
    },
    {
      "cell_type": "markdown",
      "source": [
        "Check for missing values against each column"
      ],
      "metadata": {
        "id": "A8WorWRBNRn6"
      }
    },
    {
      "cell_type": "code",
      "source": [
        "test.isnull().sum()"
      ],
      "metadata": {
        "colab": {
          "base_uri": "https://localhost:8080/"
        },
        "id": "ScKEXQkGHrsf",
        "outputId": "c1d7c5dc-c7a3-497c-b665-e26a24244163"
      },
      "execution_count": 38,
      "outputs": [
        {
          "output_type": "execute_result",
          "data": {
            "text/plain": [
              "Product_id           0\n",
              "Stall_no             1\n",
              "instock_date         0\n",
              "Market_Category      0\n",
              "Customer_name       53\n",
              "Loyalty_customer     0\n",
              "Product_Category     0\n",
              "Grade                0\n",
              "Demand               0\n",
              "Discount_avail       0\n",
              "charges_1           36\n",
              "charges_2 (%)        5\n",
              "Minimum_price       14\n",
              "Maximum_price        0\n",
              "year                 0\n",
              "month                0\n",
              "day                  0\n",
              "hour                 0\n",
              "dtype: int64"
            ]
          },
          "metadata": {},
          "execution_count": 38
        }
      ]
    },
    {
      "cell_type": "markdown",
      "source": [
        "Impute missing value of column of \"Stall_no\" by mode of its sample distribution"
      ],
      "metadata": {
        "id": "jzNUgYkEJilD"
      }
    },
    {
      "cell_type": "code",
      "source": [
        "test['Stall_no'] = test['Stall_no'].fillna(test['Stall_no'].mode()[0])"
      ],
      "metadata": {
        "id": "0ByNNuLbITEF"
      },
      "execution_count": 39,
      "outputs": []
    },
    {
      "cell_type": "code",
      "source": [
        "test.isnull().sum()"
      ],
      "metadata": {
        "colab": {
          "base_uri": "https://localhost:8080/"
        },
        "id": "NAhSjqeELGl8",
        "outputId": "95f23d08-2f9c-437d-93af-c985a15bc820"
      },
      "execution_count": 40,
      "outputs": [
        {
          "output_type": "execute_result",
          "data": {
            "text/plain": [
              "Product_id           0\n",
              "Stall_no             0\n",
              "instock_date         0\n",
              "Market_Category      0\n",
              "Customer_name       53\n",
              "Loyalty_customer     0\n",
              "Product_Category     0\n",
              "Grade                0\n",
              "Demand               0\n",
              "Discount_avail       0\n",
              "charges_1           36\n",
              "charges_2 (%)        5\n",
              "Minimum_price       14\n",
              "Maximum_price        0\n",
              "year                 0\n",
              "month                0\n",
              "day                  0\n",
              "hour                 0\n",
              "dtype: int64"
            ]
          },
          "metadata": {},
          "execution_count": 40
        }
      ]
    },
    {
      "cell_type": "markdown",
      "source": [
        "Delete columns not necessary in making prediction"
      ],
      "metadata": {
        "id": "ePR5vFOvLl-3"
      }
    },
    {
      "cell_type": "code",
      "source": [
        "pid = pd.DataFrame(test['Product_id']) #store pid in dataframe\n",
        "\n",
        "columns = ['Product_id', 'instock_date', 'Customer_name']\n",
        "test = test.drop(columns = columns)"
      ],
      "metadata": {
        "id": "G5_VPHqXLSIA"
      },
      "execution_count": 41,
      "outputs": []
    },
    {
      "cell_type": "code",
      "source": [
        "test.isnull().sum()"
      ],
      "metadata": {
        "colab": {
          "base_uri": "https://localhost:8080/"
        },
        "id": "Hei9dJnsNdm9",
        "outputId": "537d41eb-2417-4049-ede5-ae1940120e07"
      },
      "execution_count": 42,
      "outputs": [
        {
          "output_type": "execute_result",
          "data": {
            "text/plain": [
              "Stall_no             0\n",
              "Market_Category      0\n",
              "Loyalty_customer     0\n",
              "Product_Category     0\n",
              "Grade                0\n",
              "Demand               0\n",
              "Discount_avail       0\n",
              "charges_1           36\n",
              "charges_2 (%)        5\n",
              "Minimum_price       14\n",
              "Maximum_price        0\n",
              "year                 0\n",
              "month                0\n",
              "day                  0\n",
              "hour                 0\n",
              "dtype: int64"
            ]
          },
          "metadata": {},
          "execution_count": 42
        }
      ]
    },
    {
      "cell_type": "markdown",
      "source": [
        "Convert categorical columns - 'Loyalty_customer' and 'Product_Category' into one hot vector columns and add it to test data"
      ],
      "metadata": {
        "id": "oBEsnm_wN87x"
      }
    },
    {
      "cell_type": "code",
      "source": [
        "test = pd.get_dummies(test, columns=['Loyalty_customer', 'Product_Category'])"
      ],
      "metadata": {
        "id": "oK4Hvq-sOAOz"
      },
      "execution_count": 43,
      "outputs": []
    },
    {
      "cell_type": "code",
      "source": [
        "test.isnull().sum()"
      ],
      "metadata": {
        "colab": {
          "base_uri": "https://localhost:8080/"
        },
        "id": "S3ENx6qEOH3M",
        "outputId": "04e56ec7-4850-47e5-b984-b0efabbd8907"
      },
      "execution_count": 44,
      "outputs": [
        {
          "output_type": "execute_result",
          "data": {
            "text/plain": [
              "Stall_no                         0\n",
              "Market_Category                  0\n",
              "Grade                            0\n",
              "Demand                           0\n",
              "Discount_avail                   0\n",
              "charges_1                       36\n",
              "charges_2 (%)                    5\n",
              "Minimum_price                   14\n",
              "Maximum_price                    0\n",
              "year                             0\n",
              "month                            0\n",
              "day                              0\n",
              "hour                             0\n",
              "Loyalty_customer_No              0\n",
              "Loyalty_customer_Yes             0\n",
              "Product_Category_Child_care      0\n",
              "Product_Category_Cosmetics       0\n",
              "Product_Category_Educational     0\n",
              "Product_Category_Fashion         0\n",
              "Product_Category_Home_decor      0\n",
              "Product_Category_Hospitality     0\n",
              "Product_Category_Organic         0\n",
              "Product_Category_Pet_care        0\n",
              "Product_Category_Repair          0\n",
              "Product_Category_Technology      0\n",
              "dtype: int64"
            ]
          },
          "metadata": {},
          "execution_count": 44
        }
      ]
    },
    {
      "cell_type": "markdown",
      "source": [
        "Impute columns having missing values with mean of their sample distribution"
      ],
      "metadata": {
        "id": "VLSkIUu2OZdJ"
      }
    },
    {
      "cell_type": "code",
      "source": [
        "cols = ['charges_1', 'charges_2 (%)', 'Minimum_price']\n",
        "for col in cols:\n",
        "  test[col] = test[col].fillna(int(test[col].mean()))"
      ],
      "metadata": {
        "id": "HqCqdldLOaYC"
      },
      "execution_count": 45,
      "outputs": []
    },
    {
      "cell_type": "code",
      "source": [
        "test.info()"
      ],
      "metadata": {
        "colab": {
          "base_uri": "https://localhost:8080/"
        },
        "id": "CtkCo3cjOnmR",
        "outputId": "faa23ae6-de92-4eb3-cb58-d09034b594eb"
      },
      "execution_count": 46,
      "outputs": [
        {
          "output_type": "stream",
          "name": "stdout",
          "text": [
            "<class 'pandas.core.frame.DataFrame'>\n",
            "RangeIndex: 3430 entries, 0 to 3429\n",
            "Data columns (total 25 columns):\n",
            " #   Column                        Non-Null Count  Dtype  \n",
            "---  ------                        --------------  -----  \n",
            " 0   Stall_no                      3430 non-null   float64\n",
            " 1   Market_Category               3430 non-null   int64  \n",
            " 2   Grade                         3430 non-null   int64  \n",
            " 3   Demand                        3430 non-null   int64  \n",
            " 4   Discount_avail                3430 non-null   int64  \n",
            " 5   charges_1                     3430 non-null   float64\n",
            " 6   charges_2 (%)                 3430 non-null   float64\n",
            " 7   Minimum_price                 3430 non-null   float64\n",
            " 8   Maximum_price                 3430 non-null   int64  \n",
            " 9   year                          3430 non-null   int64  \n",
            " 10  month                         3430 non-null   int64  \n",
            " 11  day                           3430 non-null   int64  \n",
            " 12  hour                          3430 non-null   int64  \n",
            " 13  Loyalty_customer_No           3430 non-null   uint8  \n",
            " 14  Loyalty_customer_Yes          3430 non-null   uint8  \n",
            " 15  Product_Category_Child_care   3430 non-null   uint8  \n",
            " 16  Product_Category_Cosmetics    3430 non-null   uint8  \n",
            " 17  Product_Category_Educational  3430 non-null   uint8  \n",
            " 18  Product_Category_Fashion      3430 non-null   uint8  \n",
            " 19  Product_Category_Home_decor   3430 non-null   uint8  \n",
            " 20  Product_Category_Hospitality  3430 non-null   uint8  \n",
            " 21  Product_Category_Organic      3430 non-null   uint8  \n",
            " 22  Product_Category_Pet_care     3430 non-null   uint8  \n",
            " 23  Product_Category_Repair       3430 non-null   uint8  \n",
            " 24  Product_Category_Technology   3430 non-null   uint8  \n",
            "dtypes: float64(4), int64(9), uint8(12)\n",
            "memory usage: 388.7 KB\n"
          ]
        }
      ]
    },
    {
      "cell_type": "markdown",
      "source": [
        "# Make Prediction using best found model"
      ],
      "metadata": {
        "id": "x84bL08uPeu_"
      }
    },
    {
      "cell_type": "markdown",
      "source": [
        "Use the best trained model to predict test data"
      ],
      "metadata": {
        "id": "h4HboLjPSCQh"
      }
    },
    {
      "cell_type": "code",
      "source": [
        "y_test_pred = pd.DataFrame(rf.predict(test), columns=['Selling_Price'])\n"
      ],
      "metadata": {
        "id": "rSOXpRe-PdSZ"
      },
      "execution_count": 47,
      "outputs": []
    },
    {
      "cell_type": "markdown",
      "source": [
        "Checkout y_test_pred"
      ],
      "metadata": {
        "id": "cgK-JErrSVfI"
      }
    },
    {
      "cell_type": "code",
      "source": [
        "y_test_pred.head()"
      ],
      "metadata": {
        "colab": {
          "base_uri": "https://localhost:8080/",
          "height": 206
        },
        "id": "FeCTAUcZSYOb",
        "outputId": "6854afee-7150-451b-ddae-dd06968ccd1d"
      },
      "execution_count": 48,
      "outputs": [
        {
          "output_type": "execute_result",
          "data": {
            "text/plain": [
              "   Selling_Price\n",
              "0    3245.770610\n",
              "1    1928.592058\n",
              "2   11735.195806\n",
              "3    9590.432828\n",
              "4    5562.331124"
            ],
            "text/html": [
              "\n",
              "  <div id=\"df-cdf944ab-2ddb-430a-85eb-3a9fcfcfd4c7\">\n",
              "    <div class=\"colab-df-container\">\n",
              "      <div>\n",
              "<style scoped>\n",
              "    .dataframe tbody tr th:only-of-type {\n",
              "        vertical-align: middle;\n",
              "    }\n",
              "\n",
              "    .dataframe tbody tr th {\n",
              "        vertical-align: top;\n",
              "    }\n",
              "\n",
              "    .dataframe thead th {\n",
              "        text-align: right;\n",
              "    }\n",
              "</style>\n",
              "<table border=\"1\" class=\"dataframe\">\n",
              "  <thead>\n",
              "    <tr style=\"text-align: right;\">\n",
              "      <th></th>\n",
              "      <th>Selling_Price</th>\n",
              "    </tr>\n",
              "  </thead>\n",
              "  <tbody>\n",
              "    <tr>\n",
              "      <th>0</th>\n",
              "      <td>3245.770610</td>\n",
              "    </tr>\n",
              "    <tr>\n",
              "      <th>1</th>\n",
              "      <td>1928.592058</td>\n",
              "    </tr>\n",
              "    <tr>\n",
              "      <th>2</th>\n",
              "      <td>11735.195806</td>\n",
              "    </tr>\n",
              "    <tr>\n",
              "      <th>3</th>\n",
              "      <td>9590.432828</td>\n",
              "    </tr>\n",
              "    <tr>\n",
              "      <th>4</th>\n",
              "      <td>5562.331124</td>\n",
              "    </tr>\n",
              "  </tbody>\n",
              "</table>\n",
              "</div>\n",
              "      <button class=\"colab-df-convert\" onclick=\"convertToInteractive('df-cdf944ab-2ddb-430a-85eb-3a9fcfcfd4c7')\"\n",
              "              title=\"Convert this dataframe to an interactive table.\"\n",
              "              style=\"display:none;\">\n",
              "        \n",
              "  <svg xmlns=\"http://www.w3.org/2000/svg\" height=\"24px\"viewBox=\"0 0 24 24\"\n",
              "       width=\"24px\">\n",
              "    <path d=\"M0 0h24v24H0V0z\" fill=\"none\"/>\n",
              "    <path d=\"M18.56 5.44l.94 2.06.94-2.06 2.06-.94-2.06-.94-.94-2.06-.94 2.06-2.06.94zm-11 1L8.5 8.5l.94-2.06 2.06-.94-2.06-.94L8.5 2.5l-.94 2.06-2.06.94zm10 10l.94 2.06.94-2.06 2.06-.94-2.06-.94-.94-2.06-.94 2.06-2.06.94z\"/><path d=\"M17.41 7.96l-1.37-1.37c-.4-.4-.92-.59-1.43-.59-.52 0-1.04.2-1.43.59L10.3 9.45l-7.72 7.72c-.78.78-.78 2.05 0 2.83L4 21.41c.39.39.9.59 1.41.59.51 0 1.02-.2 1.41-.59l7.78-7.78 2.81-2.81c.8-.78.8-2.07 0-2.86zM5.41 20L4 18.59l7.72-7.72 1.47 1.35L5.41 20z\"/>\n",
              "  </svg>\n",
              "      </button>\n",
              "      \n",
              "  <style>\n",
              "    .colab-df-container {\n",
              "      display:flex;\n",
              "      flex-wrap:wrap;\n",
              "      gap: 12px;\n",
              "    }\n",
              "\n",
              "    .colab-df-convert {\n",
              "      background-color: #E8F0FE;\n",
              "      border: none;\n",
              "      border-radius: 50%;\n",
              "      cursor: pointer;\n",
              "      display: none;\n",
              "      fill: #1967D2;\n",
              "      height: 32px;\n",
              "      padding: 0 0 0 0;\n",
              "      width: 32px;\n",
              "    }\n",
              "\n",
              "    .colab-df-convert:hover {\n",
              "      background-color: #E2EBFA;\n",
              "      box-shadow: 0px 1px 2px rgba(60, 64, 67, 0.3), 0px 1px 3px 1px rgba(60, 64, 67, 0.15);\n",
              "      fill: #174EA6;\n",
              "    }\n",
              "\n",
              "    [theme=dark] .colab-df-convert {\n",
              "      background-color: #3B4455;\n",
              "      fill: #D2E3FC;\n",
              "    }\n",
              "\n",
              "    [theme=dark] .colab-df-convert:hover {\n",
              "      background-color: #434B5C;\n",
              "      box-shadow: 0px 1px 3px 1px rgba(0, 0, 0, 0.15);\n",
              "      filter: drop-shadow(0px 1px 2px rgba(0, 0, 0, 0.3));\n",
              "      fill: #FFFFFF;\n",
              "    }\n",
              "  </style>\n",
              "\n",
              "      <script>\n",
              "        const buttonEl =\n",
              "          document.querySelector('#df-cdf944ab-2ddb-430a-85eb-3a9fcfcfd4c7 button.colab-df-convert');\n",
              "        buttonEl.style.display =\n",
              "          google.colab.kernel.accessAllowed ? 'block' : 'none';\n",
              "\n",
              "        async function convertToInteractive(key) {\n",
              "          const element = document.querySelector('#df-cdf944ab-2ddb-430a-85eb-3a9fcfcfd4c7');\n",
              "          const dataTable =\n",
              "            await google.colab.kernel.invokeFunction('convertToInteractive',\n",
              "                                                     [key], {});\n",
              "          if (!dataTable) return;\n",
              "\n",
              "          const docLinkHtml = 'Like what you see? Visit the ' +\n",
              "            '<a target=\"_blank\" href=https://colab.research.google.com/notebooks/data_table.ipynb>data table notebook</a>'\n",
              "            + ' to learn more about interactive tables.';\n",
              "          element.innerHTML = '';\n",
              "          dataTable['output_type'] = 'display_data';\n",
              "          await google.colab.output.renderOutput(dataTable, element);\n",
              "          const docLink = document.createElement('div');\n",
              "          docLink.innerHTML = docLinkHtml;\n",
              "          element.appendChild(docLink);\n",
              "        }\n",
              "      </script>\n",
              "    </div>\n",
              "  </div>\n",
              "  "
            ]
          },
          "metadata": {},
          "execution_count": 48
        }
      ]
    },
    {
      "cell_type": "markdown",
      "source": [
        "Check existence of negative values in prediction output"
      ],
      "metadata": {
        "id": "KS2Mg50rB1_n"
      }
    },
    {
      "cell_type": "code",
      "source": [
        "y_test_pred[y_test_pred['Selling_Price'] > 0].count()"
      ],
      "metadata": {
        "colab": {
          "base_uri": "https://localhost:8080/"
        },
        "id": "NjCWaW4TBuDy",
        "outputId": "002d4ecc-d6ba-422f-ff9d-59fb79861afa"
      },
      "execution_count": 54,
      "outputs": [
        {
          "output_type": "execute_result",
          "data": {
            "text/plain": [
              "Selling_Price    3430\n",
              "dtype: int64"
            ]
          },
          "metadata": {},
          "execution_count": 54
        }
      ]
    },
    {
      "cell_type": "code",
      "source": [
        "# y_test_pred = np.where(y_test_pred['Selling_Price'] < 0, 0, y_test_pred['Selling_Price'])"
      ],
      "metadata": {
        "id": "UTEBkDtCAeRD"
      },
      "execution_count": null,
      "outputs": []
    },
    {
      "cell_type": "markdown",
      "source": [
        "Concatenate \"Product_id\" and \"Selling_Price\" columns into one dataframe \\\n",
        "Output prediction to csv file"
      ],
      "metadata": {
        "id": "NJZ0tx14SdgX"
      }
    },
    {
      "cell_type": "code",
      "source": [
        "df = pd.concat([pid, y_test_pred], axis=1)\n",
        "df.to_csv('Result.csv', index=False)"
      ],
      "metadata": {
        "id": "M9RbZlxlRIvl"
      },
      "execution_count": 55,
      "outputs": []
    },
    {
      "cell_type": "markdown",
      "source": [
        "Check prediction output"
      ],
      "metadata": {
        "id": "90s3pN_AZAhF"
      }
    },
    {
      "cell_type": "code",
      "source": [
        "df"
      ],
      "metadata": {
        "colab": {
          "base_uri": "https://localhost:8080/",
          "height": 424
        },
        "id": "w6moQz44WAwI",
        "outputId": "c412c015-12ba-462e-96dc-bf05d132b7fd"
      },
      "execution_count": 56,
      "outputs": [
        {
          "output_type": "execute_result",
          "data": {
            "text/plain": [
              "            Product_id  Selling_Price\n",
              "0     SCHE4YSTDVPVZVXW    3245.770610\n",
              "1     ACCEGCATKHNRXUHW    1928.592058\n",
              "2     NKCE6GJ5XVJDXNNZ   11735.195806\n",
              "3     NKCEB8BK3ZXDHDHM    9590.432828\n",
              "4     TOPEFDXSAHRNPF94    5562.331124\n",
              "...                ...            ...\n",
              "3425  BBAE9K7BXFUTDNBK    3985.399995\n",
              "3426  RTRDYPA4PJHCJCGF    9191.434003\n",
              "3427  TUNE8FWQBS7TVVT7    6833.503419\n",
              "3428  NKCEGMUABCRGUZPE    3554.544152\n",
              "3429  RNGE7M92KAQWUBCS    1043.373604\n",
              "\n",
              "[3430 rows x 2 columns]"
            ],
            "text/html": [
              "\n",
              "  <div id=\"df-f4b3d108-1e39-416a-8efc-c03ecc1914af\">\n",
              "    <div class=\"colab-df-container\">\n",
              "      <div>\n",
              "<style scoped>\n",
              "    .dataframe tbody tr th:only-of-type {\n",
              "        vertical-align: middle;\n",
              "    }\n",
              "\n",
              "    .dataframe tbody tr th {\n",
              "        vertical-align: top;\n",
              "    }\n",
              "\n",
              "    .dataframe thead th {\n",
              "        text-align: right;\n",
              "    }\n",
              "</style>\n",
              "<table border=\"1\" class=\"dataframe\">\n",
              "  <thead>\n",
              "    <tr style=\"text-align: right;\">\n",
              "      <th></th>\n",
              "      <th>Product_id</th>\n",
              "      <th>Selling_Price</th>\n",
              "    </tr>\n",
              "  </thead>\n",
              "  <tbody>\n",
              "    <tr>\n",
              "      <th>0</th>\n",
              "      <td>SCHE4YSTDVPVZVXW</td>\n",
              "      <td>3245.770610</td>\n",
              "    </tr>\n",
              "    <tr>\n",
              "      <th>1</th>\n",
              "      <td>ACCEGCATKHNRXUHW</td>\n",
              "      <td>1928.592058</td>\n",
              "    </tr>\n",
              "    <tr>\n",
              "      <th>2</th>\n",
              "      <td>NKCE6GJ5XVJDXNNZ</td>\n",
              "      <td>11735.195806</td>\n",
              "    </tr>\n",
              "    <tr>\n",
              "      <th>3</th>\n",
              "      <td>NKCEB8BK3ZXDHDHM</td>\n",
              "      <td>9590.432828</td>\n",
              "    </tr>\n",
              "    <tr>\n",
              "      <th>4</th>\n",
              "      <td>TOPEFDXSAHRNPF94</td>\n",
              "      <td>5562.331124</td>\n",
              "    </tr>\n",
              "    <tr>\n",
              "      <th>...</th>\n",
              "      <td>...</td>\n",
              "      <td>...</td>\n",
              "    </tr>\n",
              "    <tr>\n",
              "      <th>3425</th>\n",
              "      <td>BBAE9K7BXFUTDNBK</td>\n",
              "      <td>3985.399995</td>\n",
              "    </tr>\n",
              "    <tr>\n",
              "      <th>3426</th>\n",
              "      <td>RTRDYPA4PJHCJCGF</td>\n",
              "      <td>9191.434003</td>\n",
              "    </tr>\n",
              "    <tr>\n",
              "      <th>3427</th>\n",
              "      <td>TUNE8FWQBS7TVVT7</td>\n",
              "      <td>6833.503419</td>\n",
              "    </tr>\n",
              "    <tr>\n",
              "      <th>3428</th>\n",
              "      <td>NKCEGMUABCRGUZPE</td>\n",
              "      <td>3554.544152</td>\n",
              "    </tr>\n",
              "    <tr>\n",
              "      <th>3429</th>\n",
              "      <td>RNGE7M92KAQWUBCS</td>\n",
              "      <td>1043.373604</td>\n",
              "    </tr>\n",
              "  </tbody>\n",
              "</table>\n",
              "<p>3430 rows × 2 columns</p>\n",
              "</div>\n",
              "      <button class=\"colab-df-convert\" onclick=\"convertToInteractive('df-f4b3d108-1e39-416a-8efc-c03ecc1914af')\"\n",
              "              title=\"Convert this dataframe to an interactive table.\"\n",
              "              style=\"display:none;\">\n",
              "        \n",
              "  <svg xmlns=\"http://www.w3.org/2000/svg\" height=\"24px\"viewBox=\"0 0 24 24\"\n",
              "       width=\"24px\">\n",
              "    <path d=\"M0 0h24v24H0V0z\" fill=\"none\"/>\n",
              "    <path d=\"M18.56 5.44l.94 2.06.94-2.06 2.06-.94-2.06-.94-.94-2.06-.94 2.06-2.06.94zm-11 1L8.5 8.5l.94-2.06 2.06-.94-2.06-.94L8.5 2.5l-.94 2.06-2.06.94zm10 10l.94 2.06.94-2.06 2.06-.94-2.06-.94-.94-2.06-.94 2.06-2.06.94z\"/><path d=\"M17.41 7.96l-1.37-1.37c-.4-.4-.92-.59-1.43-.59-.52 0-1.04.2-1.43.59L10.3 9.45l-7.72 7.72c-.78.78-.78 2.05 0 2.83L4 21.41c.39.39.9.59 1.41.59.51 0 1.02-.2 1.41-.59l7.78-7.78 2.81-2.81c.8-.78.8-2.07 0-2.86zM5.41 20L4 18.59l7.72-7.72 1.47 1.35L5.41 20z\"/>\n",
              "  </svg>\n",
              "      </button>\n",
              "      \n",
              "  <style>\n",
              "    .colab-df-container {\n",
              "      display:flex;\n",
              "      flex-wrap:wrap;\n",
              "      gap: 12px;\n",
              "    }\n",
              "\n",
              "    .colab-df-convert {\n",
              "      background-color: #E8F0FE;\n",
              "      border: none;\n",
              "      border-radius: 50%;\n",
              "      cursor: pointer;\n",
              "      display: none;\n",
              "      fill: #1967D2;\n",
              "      height: 32px;\n",
              "      padding: 0 0 0 0;\n",
              "      width: 32px;\n",
              "    }\n",
              "\n",
              "    .colab-df-convert:hover {\n",
              "      background-color: #E2EBFA;\n",
              "      box-shadow: 0px 1px 2px rgba(60, 64, 67, 0.3), 0px 1px 3px 1px rgba(60, 64, 67, 0.15);\n",
              "      fill: #174EA6;\n",
              "    }\n",
              "\n",
              "    [theme=dark] .colab-df-convert {\n",
              "      background-color: #3B4455;\n",
              "      fill: #D2E3FC;\n",
              "    }\n",
              "\n",
              "    [theme=dark] .colab-df-convert:hover {\n",
              "      background-color: #434B5C;\n",
              "      box-shadow: 0px 1px 3px 1px rgba(0, 0, 0, 0.15);\n",
              "      filter: drop-shadow(0px 1px 2px rgba(0, 0, 0, 0.3));\n",
              "      fill: #FFFFFF;\n",
              "    }\n",
              "  </style>\n",
              "\n",
              "      <script>\n",
              "        const buttonEl =\n",
              "          document.querySelector('#df-f4b3d108-1e39-416a-8efc-c03ecc1914af button.colab-df-convert');\n",
              "        buttonEl.style.display =\n",
              "          google.colab.kernel.accessAllowed ? 'block' : 'none';\n",
              "\n",
              "        async function convertToInteractive(key) {\n",
              "          const element = document.querySelector('#df-f4b3d108-1e39-416a-8efc-c03ecc1914af');\n",
              "          const dataTable =\n",
              "            await google.colab.kernel.invokeFunction('convertToInteractive',\n",
              "                                                     [key], {});\n",
              "          if (!dataTable) return;\n",
              "\n",
              "          const docLinkHtml = 'Like what you see? Visit the ' +\n",
              "            '<a target=\"_blank\" href=https://colab.research.google.com/notebooks/data_table.ipynb>data table notebook</a>'\n",
              "            + ' to learn more about interactive tables.';\n",
              "          element.innerHTML = '';\n",
              "          dataTable['output_type'] = 'display_data';\n",
              "          await google.colab.output.renderOutput(dataTable, element);\n",
              "          const docLink = document.createElement('div');\n",
              "          docLink.innerHTML = docLinkHtml;\n",
              "          element.appendChild(docLink);\n",
              "        }\n",
              "      </script>\n",
              "    </div>\n",
              "  </div>\n",
              "  "
            ]
          },
          "metadata": {},
          "execution_count": 56
        }
      ]
    }
  ]
}